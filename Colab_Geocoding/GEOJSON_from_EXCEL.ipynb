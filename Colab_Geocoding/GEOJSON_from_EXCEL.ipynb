{
  "nbformat": 4,
  "nbformat_minor": 0,
  "metadata": {
    "colab": {
      "private_outputs": true,
      "provenance": []
    },
    "kernelspec": {
      "name": "python3",
      "display_name": "Python 3"
    },
    "language_info": {
      "name": "python"
    }
  },
  "cells": [
    {
      "cell_type": "markdown",
      "source": [
        "## Code to geocode data from EXCEL, create a GeoJSON file, and plot a simple map\n"
      ],
      "metadata": {
        "id": "zP6TcQZiWMmn"
      }
    },
    {
      "cell_type": "markdown",
      "source": [
        "In the first step, we have to install and import the necessary Python packages. Pandas is needed for working with tabular data, folium is needed for mapping, geopy for geocoding, and json for the generation of a valid GeoJSON file. Time is needed to introduce a delay when calling the geocoding API. Otherwise we might hit a timeout.\n"
      ],
      "metadata": {
        "id": "Ph3OGQj1WaU8"
      }
    },
    {
      "cell_type": "code",
      "source": [
        "# Install required packages\n",
        "!pip install --quiet pandas openpyxl folium geopy\n",
        "\n",
        "import pandas as pd\n",
        "import folium\n",
        "from geopy.geocoders import Nominatim\n",
        "import json\n",
        "import time"
      ],
      "metadata": {
        "id": "bOYX29X0UXEw"
      },
      "execution_count": null,
      "outputs": []
    },
    {
      "cell_type": "markdown",
      "source": [
        "In the next step, the script will prompt you to upload an EXCEL file from your local machine. The file can have as many data columns as you like but must include one column called \"Address\" with some spatial information. My own test file has three columns: event, date, and address. The address columns in my sample contains the names of different places in England.\n"
      ],
      "metadata": {
        "id": "k90Q9SfaW1fg"
      }
    },
    {
      "cell_type": "code",
      "source": [
        "# Upload Excel file\n",
        "from google.colab import files\n",
        "uploaded = files.upload()"
      ],
      "metadata": {
        "id": "w8N1HW-QW0Q7"
      },
      "execution_count": null,
      "outputs": []
    },
    {
      "cell_type": "markdown",
      "source": [
        "We now read the file and create a so-called dataframe, a two-dimensional data structure, that we can display as a preview.\n"
      ],
      "metadata": {
        "id": "S4CiW2PGXc8E"
      }
    },
    {
      "cell_type": "code",
      "source": [
        "# Load the uploaded Excel file and display if valid\n",
        "\n",
        "if 'Address' not in df.columns:\n",
        "    raise ValueError(\"The Excel file must have a column named 'Address'. Please re-run the code!\")\n",
        "else:\n",
        "    excel_file = list(uploaded.keys())[0]\n",
        "    df = pd.read_excel(excel_file)\n",
        "    display(df)"
      ],
      "metadata": {
        "id": "iiQ-ixC1Xxkg"
      },
      "execution_count": null,
      "outputs": []
    },
    {
      "cell_type": "markdown",
      "source": [
        "The following step is the actual geocoding. This means that the place name found in the \"Address\" column of your file will be connected with a specific latitude and longitude. These coordinates will come from Open Street Maps. Empty cells will be ignored. Please note that my approach below is rather simplistic. A more Pythonic solution would be to use lambda or apply for iterating over all values in the \"Address\" column, but in my test runs with different data, I found that this would also require more error handling for possible key errors.\n"
      ],
      "metadata": {
        "id": "joL3KJhzYPF8"
      }
    },
    {
      "cell_type": "code",
      "source": [
        "# Start Nominatim geolocator\n",
        "geolocator = Nominatim(user_agent=\"geojson_mapper\", timeout=10)\n",
        "\n",
        "# Test geocoding functionality with one place\n",
        "\n",
        "location_1 = geolocator.geocode(\"Oxford\")\n",
        "print(\"These are the OSM coordinates: \", location_1.latitude, location_1.longitude)\n",
        "\n",
        "# Make list for new latitude values\n",
        "\n",
        "coord_lat = []\n",
        "\n",
        "# Make list for new longitude values\n",
        "\n",
        "coord_lon = []\n",
        "\n",
        "# Geocode places and add values to lists\n",
        "\n",
        "def geocode_address(address):\n",
        "    try:\n",
        "        location = geolocator.geocode(address, exactly_one=True)\n",
        "        if location:\n",
        "            coord_lat.append(location.latitude)\n",
        "            coord_lon.append(location.longitude)\n",
        "        else:\n",
        "            coord_lat.append(None)\n",
        "            coord_lon.append(None)\n",
        "    except Exception as e:\n",
        "        print(f\"An error occurred with address '{address}': {e}\")\n",
        "        coord_lat.append(None)\n",
        "        coord_lon.append(None)\n",
        "\n",
        "# Clean address column and geocode\n",
        "df['Address'] = df['Address'].astype(str)\n",
        "for address in df['Address'].values:\n",
        "  print(address)\n",
        "  geocode_address(address)\n",
        "\n",
        "# Add new columns to dataframe\n",
        "df['Latitude'] = coord_lat\n",
        "df['Longitude'] = coord_lon\n",
        "display(df)"
      ],
      "metadata": {
        "id": "zv8dUqFseOGd"
      },
      "execution_count": null,
      "outputs": []
    },
    {
      "cell_type": "markdown",
      "source": [
        "Now that we have a dataframe including coordinates, we can write the new data to GeoJSON.\n"
      ],
      "metadata": {
        "id": "mO6a17jPvVbh"
      }
    },
    {
      "cell_type": "code",
      "source": [
        "# Convert to GeoJSON\n",
        "features = []\n",
        "for _, row in df.iterrows():\n",
        "    features.append({\n",
        "        \"type\": \"Feature\",\n",
        "        \"geometry\": {\n",
        "            \"type\": \"Point\",\n",
        "            \"coordinates\": [row['Longitude'], row['Latitude']],\n",
        "        },\n",
        "        \"properties\": row.drop(['Latitude', 'Longitude']).to_dict(),\n",
        "    })\n",
        "\n",
        "geojson_data = {\n",
        "    \"type\": \"FeatureCollection\",\n",
        "    \"features\": features\n",
        "}\n",
        "\n",
        "# Save GeoJSON to file\n",
        "geojson_filename = \"geocoded_output.geojson\"\n",
        "with open(geojson_filename, 'w') as f:\n",
        "    json.dump(geojson_data, f)\n",
        "\n",
        "# Download file from Colab\n",
        "files.download(geojson_filename)"
      ],
      "metadata": {
        "id": "qHlqRVshVGlO"
      },
      "execution_count": null,
      "outputs": []
    },
    {
      "cell_type": "markdown",
      "source": [
        "The final step is to use ``` folium ``` for the creation of simple zoomable map.\n",
        "\n",
        "\n"
      ],
      "metadata": {
        "id": "_8W-EHgJvhTx"
      }
    },
    {
      "cell_type": "code",
      "source": [
        "# Display map\n",
        "m = folium.Map(location=[df['Latitude'].mean(), df['Longitude'].mean()], zoom_start=6)\n",
        "for _, row in df.iterrows():\n",
        "    folium.Marker(\n",
        "        location=[row['Latitude'], row['Longitude']],\n",
        "        popup=row['Address']\n",
        "    ).add_to(m)\n",
        "m"
      ],
      "metadata": {
        "id": "Fe_xmiODuz9F"
      },
      "execution_count": null,
      "outputs": []
    },
    {
      "cell_type": "markdown",
      "source": [
        "Monika Barget, Maastricht University, last edited in May 2025 -- The 2023 version of this code depricated when problems with problems with `ipywidgets` and `ipyleaflet` occurred."
      ],
      "metadata": {
        "id": "EuxrwhasvyRM"
      }
    },
    {
      "cell_type": "code",
      "source": [],
      "metadata": {
        "id": "M01fZdfQgfFG"
      },
      "execution_count": null,
      "outputs": []
    }
  ]
}