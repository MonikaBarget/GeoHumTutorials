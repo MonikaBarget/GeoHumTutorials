{
  "nbformat": 4,
  "nbformat_minor": 0,
  "metadata": {
    "colab": {
      "provenance": [],
      "include_colab_link": true
    },
    "kernelspec": {
      "name": "python3",
      "display_name": "Python 3"
    },
    "language_info": {
      "name": "python"
    },
    "widgets": {
      "application/vnd.jupyter.widget-state+json": {
        "3794c8154fa3400ba339a30e0e13d8fc": {
          "model_module": "jupyter-leaflet",
          "model_name": "LeafletMapModel",
          "model_module_version": "^0.17",
          "state": {
            "_dom_classes": [],
            "_model_module": "jupyter-leaflet",
            "_model_module_version": "^0.17",
            "_model_name": "LeafletMapModel",
            "_view_count": null,
            "_view_module": "jupyter-leaflet",
            "_view_module_version": "^0.17",
            "_view_name": "LeafletMapView",
            "bottom": 21108,
            "bounce_at_zoom_limits": true,
            "box_zoom": true,
            "center": [
              54.43171285946844,
              9.599304199218752
            ],
            "close_popup_on_click": true,
            "controls": [
              "IPY_MODEL_5120df12682f4ba9934a26a9122c9765",
              "IPY_MODEL_acbc8a695723458eb412f07c2f30e558",
              "IPY_MODEL_4253e198c5c546b5a34a3621bf4342b5"
            ],
            "crs": {
              "name": "EPSG3857",
              "custom": false
            },
            "default_style": "IPY_MODEL_1a9c21afb85341e9b5d60655c15d5088",
            "double_click_zoom": true,
            "dragging": true,
            "dragging_style": "IPY_MODEL_298b2990b57c46a6850b71963763c3e9",
            "east": 12.974853515625002,
            "fullscreen": false,
            "inertia": true,
            "inertia_deceleration": 3000,
            "inertia_max_speed": 1500,
            "interpolation": "bilinear",
            "keyboard": true,
            "keyboard_pan_offset": 80,
            "keyboard_zoom_offset": 1,
            "layers": [
              "IPY_MODEL_de25a795bdc54cf6ace39fdc139846cb",
              "IPY_MODEL_f36a25acc7854d738d6bf9e705e4d7ff"
            ],
            "layout": "IPY_MODEL_f37127d8806748959970d7c6d95e613a",
            "left": 33901,
            "max_zoom": 20,
            "min_zoom": 1,
            "modisdate": "2023-01-26",
            "north": 55.06578688659172,
            "options": [
              "bounce_at_zoom_limits",
              "box_zoom",
              "center",
              "close_popup_on_click",
              "double_click_zoom",
              "dragging",
              "fullscreen",
              "inertia",
              "inertia_deceleration",
              "inertia_max_speed",
              "interpolation",
              "keyboard",
              "keyboard_pan_offset",
              "keyboard_zoom_offset",
              "max_zoom",
              "min_zoom",
              "prefer_canvas",
              "scroll_wheel_zoom",
              "tap",
              "tap_tolerance",
              "touch_zoom",
              "world_copy_jump",
              "zoom",
              "zoom_animation_threshold",
              "zoom_delta",
              "zoom_snap"
            ],
            "panes": {},
            "prefer_canvas": false,
            "right": 35130,
            "scroll_wheel_zoom": false,
            "south": 53.787671844350285,
            "style": "IPY_MODEL_1a9c21afb85341e9b5d60655c15d5088",
            "tap": true,
            "tap_tolerance": 15,
            "top": 20708,
            "touch_zoom": true,
            "west": 6.223754882812501,
            "window_url": "https://kl2fmrs63kr-496ff2e9c6d22116-0-colab.googleusercontent.com/outputframe.html?vrz=colab-20230125-060049-RC01_504610171",
            "world_copy_jump": false,
            "zoom": 8,
            "zoom_animation_threshold": 4,
            "zoom_delta": 1,
            "zoom_snap": 1
          }
        },
        "5120df12682f4ba9934a26a9122c9765": {
          "model_module": "jupyter-leaflet",
          "model_name": "LeafletZoomControlModel",
          "model_module_version": "^0.17",
          "state": {
            "_model_module": "jupyter-leaflet",
            "_model_module_version": "^0.17",
            "_model_name": "LeafletZoomControlModel",
            "_view_count": null,
            "_view_module": "jupyter-leaflet",
            "_view_module_version": "^0.17",
            "_view_name": "LeafletZoomControlView",
            "options": [
              "position",
              "zoom_in_text",
              "zoom_in_title",
              "zoom_out_text",
              "zoom_out_title"
            ],
            "position": "topleft",
            "zoom_in_text": "+",
            "zoom_in_title": "Zoom in",
            "zoom_out_text": "-",
            "zoom_out_title": "Zoom out"
          }
        },
        "acbc8a695723458eb412f07c2f30e558": {
          "model_module": "jupyter-leaflet",
          "model_name": "LeafletAttributionControlModel",
          "model_module_version": "^0.17",
          "state": {
            "_model_module": "jupyter-leaflet",
            "_model_module_version": "^0.17",
            "_model_name": "LeafletAttributionControlModel",
            "_view_count": null,
            "_view_module": "jupyter-leaflet",
            "_view_module_version": "^0.17",
            "_view_name": "LeafletAttributionControlView",
            "options": [
              "position",
              "prefix"
            ],
            "position": "bottomright",
            "prefix": "ipyleaflet"
          }
        },
        "4253e198c5c546b5a34a3621bf4342b5": {
          "model_module": "jupyter-leaflet",
          "model_name": "LeafletLayersControlModel",
          "model_module_version": "^0.17",
          "state": {
            "_model_module": "jupyter-leaflet",
            "_model_module_version": "^0.17",
            "_model_name": "LeafletLayersControlModel",
            "_view_count": null,
            "_view_module": "jupyter-leaflet",
            "_view_module_version": "^0.17",
            "_view_name": "LeafletLayersControlView",
            "options": [
              "position"
            ],
            "position": "topleft"
          }
        },
        "1a9c21afb85341e9b5d60655c15d5088": {
          "model_module": "jupyter-leaflet",
          "model_name": "LeafletMapStyleModel",
          "model_module_version": "^0.17",
          "state": {
            "_model_module": "jupyter-leaflet",
            "_model_module_version": "^0.17",
            "_model_name": "LeafletMapStyleModel",
            "_view_count": null,
            "_view_module": "@jupyter-widgets/base",
            "_view_module_version": "1.2.0",
            "_view_name": "StyleView",
            "cursor": "grab"
          }
        },
        "298b2990b57c46a6850b71963763c3e9": {
          "model_module": "jupyter-leaflet",
          "model_name": "LeafletMapStyleModel",
          "model_module_version": "^0.17",
          "state": {
            "_model_module": "jupyter-leaflet",
            "_model_module_version": "^0.17",
            "_model_name": "LeafletMapStyleModel",
            "_view_count": null,
            "_view_module": "@jupyter-widgets/base",
            "_view_module_version": "1.2.0",
            "_view_name": "StyleView",
            "cursor": "move"
          }
        },
        "de25a795bdc54cf6ace39fdc139846cb": {
          "model_module": "jupyter-leaflet",
          "model_name": "LeafletTileLayerModel",
          "model_module_version": "^0.17",
          "state": {
            "_model_module": "jupyter-leaflet",
            "_model_module_version": "^0.17",
            "_model_name": "LeafletTileLayerModel",
            "_view_count": null,
            "_view_module": "jupyter-leaflet",
            "_view_module_version": "^0.17",
            "_view_name": "LeafletTileLayerView",
            "attribution": "Map tiles by <a href=\"http://stamen.com\">Stamen Design</a>, <a href=\"http://creativecommons.org/licenses/by/3.0\">CC BY 3.0</a> &mdash; Map data &copy; <a href=\"https://www.openstreetmap.org/copyright\">OpenStreetMap</a> contributors",
            "base": true,
            "bottom": true,
            "bounds": null,
            "detect_retina": false,
            "loading": false,
            "max_native_zoom": null,
            "max_zoom": 18,
            "min_native_zoom": null,
            "min_zoom": 0,
            "name": "Stamen.Terrain",
            "no_wrap": false,
            "opacity": 1,
            "options": [
              "attribution",
              "bounds",
              "detect_retina",
              "max_native_zoom",
              "max_zoom",
              "min_native_zoom",
              "min_zoom",
              "no_wrap",
              "tile_size",
              "tms",
              "zoom_offset"
            ],
            "pane": "",
            "popup": null,
            "popup_max_height": null,
            "popup_max_width": 300,
            "popup_min_width": 50,
            "show_loading": false,
            "subitems": [],
            "tile_size": 256,
            "tms": false,
            "url": "https://stamen-tiles-a.a.ssl.fastly.net/terrain/{z}/{x}/{y}.png",
            "visible": true,
            "zoom_offset": 0
          }
        },
        "f36a25acc7854d738d6bf9e705e4d7ff": {
          "model_module": "jupyter-leaflet",
          "model_name": "LeafletGeoJSONModel",
          "model_module_version": "^0.17",
          "state": {
            "_model_module": "jupyter-leaflet",
            "_model_module_version": "^0.17",
            "_model_name": "LeafletGeoJSONModel",
            "_view_count": null,
            "_view_module": "jupyter-leaflet",
            "_view_module_version": "^0.17",
            "_view_name": "LeafletGeoJSONView",
            "base": false,
            "bottom": false,
            "data": {
              "type": "FeatureCollection",
              "features": [
                {
                  "type": "Feature",
                  "properties": {
                    "Addresses": "Aachen",
                    "ids": 3247448,
                    "geonames address": "Städteregion Aachen",
                    "style": {
                      "color": "black",
                      "fillColor": "red"
                    }
                  },
                  "geometry": {
                    "type": "Point",
                    "coordinates": [
                      6.24194,
                      50.75389
                    ]
                  }
                },
                {
                  "type": "Feature",
                  "properties": {
                    "Addresses": "Abderode",
                    "ids": "0",
                    "geonames address": "0",
                    "style": {
                      "color": "black",
                      "fillColor": "yellow"
                    }
                  },
                  "geometry": {
                    "type": "Point",
                    "coordinates": [
                      0,
                      0
                    ]
                  }
                },
                {
                  "type": "Feature",
                  "properties": {
                    "Addresses": "Alach",
                    "ids": "0",
                    "geonames address": "0",
                    "style": {
                      "color": "black",
                      "fillColor": "red"
                    }
                  },
                  "geometry": {
                    "type": "Point",
                    "coordinates": [
                      0,
                      0
                    ]
                  }
                },
                {
                  "type": "Feature",
                  "properties": {
                    "Addresses": "Algesheim",
                    "ids": 6557928,
                    "geonames address": "Gau-Algesheim",
                    "style": {
                      "color": "black",
                      "fillColor": "orange"
                    }
                  },
                  "geometry": {
                    "type": "Point",
                    "coordinates": [
                      8.00946,
                      49.94992
                    ]
                  }
                },
                {
                  "type": "Feature",
                  "properties": {
                    "Addresses": "Altdorf",
                    "ids": 7285057,
                    "geonames address": "Altdorf (UR)",
                    "style": {
                      "color": "black",
                      "fillColor": "red"
                    }
                  },
                  "geometry": {
                    "type": "Point",
                    "coordinates": [
                      8.64091,
                      46.88834
                    ]
                  }
                },
                {
                  "type": "Feature",
                  "properties": {
                    "Addresses": "Alzey",
                    "ids": 2956708,
                    "geonames address": "Landkreis Alzey-Worms",
                    "style": {
                      "color": "black",
                      "fillColor": "green"
                    }
                  },
                  "geometry": {
                    "type": "Point",
                    "coordinates": [
                      8.15,
                      49.74944
                    ]
                  }
                },
                {
                  "type": "Feature",
                  "properties": {
                    "Addresses": "Amorbach",
                    "ids": 6558387,
                    "geonames address": "Amorbach",
                    "style": {
                      "color": "black",
                      "fillColor": "orange"
                    }
                  },
                  "geometry": {
                    "type": "Point",
                    "coordinates": [
                      9.2273,
                      49.6431
                    ]
                  }
                },
                {
                  "type": "Feature",
                  "properties": {
                    "Addresses": "Arnstadt",
                    "ids": 6551002,
                    "geonames address": "Arnstadt",
                    "style": {
                      "color": "black",
                      "fillColor": "yellow"
                    }
                  },
                  "geometry": {
                    "type": "Point",
                    "coordinates": [
                      10.96487,
                      50.8354
                    ]
                  }
                },
                {
                  "type": "Feature",
                  "properties": {
                    "Addresses": "Aschaffenburg",
                    "ids": 3220890,
                    "geonames address": "Kreisfreie Stadt Aschaffenburg",
                    "style": {
                      "color": "black",
                      "fillColor": "yellow"
                    }
                  },
                  "geometry": {
                    "type": "Point",
                    "coordinates": [
                      9.14778,
                      49.96694
                    ]
                  }
                },
                {
                  "type": "Feature",
                  "properties": {
                    "Addresses": "Attendorn (Westfalen)",
                    "ids": 6557687,
                    "geonames address": "Attendorn",
                    "style": {
                      "color": "black",
                      "fillColor": "green"
                    }
                  },
                  "geometry": {
                    "type": "Point",
                    "coordinates": [
                      7.88067,
                      51.11123
                    ]
                  }
                },
                {
                  "type": "Feature",
                  "properties": {
                    "Addresses": "Auerstedt",
                    "ids": 6550227,
                    "geonames address": "Auerstedt",
                    "style": {
                      "color": "black",
                      "fillColor": "green"
                    }
                  },
                  "geometry": {
                    "type": "Point",
                    "coordinates": [
                      11.5833,
                      51.1
                    ]
                  }
                },
                {
                  "type": "Feature",
                  "properties": {
                    "Addresses": "Azmannsdorf",
                    "ids": "0",
                    "geonames address": "0",
                    "style": {
                      "color": "black",
                      "fillColor": "orange"
                    }
                  },
                  "geometry": {
                    "type": "Point",
                    "coordinates": [
                      0,
                      0
                    ]
                  }
                },
                {
                  "type": "Feature",
                  "properties": {
                    "Addresses": "Bad Lippspringe",
                    "ids": 6557651,
                    "geonames address": "Bad Lippspringe",
                    "style": {
                      "color": "black",
                      "fillColor": "orange"
                    }
                  },
                  "geometry": {
                    "type": "Point",
                    "coordinates": [
                      8.8047,
                      51.77427
                    ]
                  }
                },
                {
                  "type": "Feature",
                  "properties": {
                    "Addresses": "Bad Mergentheim",
                    "ids": 6558009,
                    "geonames address": "Bad Mergentheim",
                    "style": {
                      "color": "black",
                      "fillColor": "yellow"
                    }
                  },
                  "geometry": {
                    "type": "Point",
                    "coordinates": [
                      9.77266,
                      49.47631
                    ]
                  }
                },
                {
                  "type": "Feature",
                  "properties": {
                    "Addresses": "Bad Wimpfen",
                    "ids": 6557977,
                    "geonames address": "Bad Wimpfen",
                    "style": {
                      "color": "black",
                      "fillColor": "red"
                    }
                  },
                  "geometry": {
                    "type": "Point",
                    "coordinates": [
                      9.1613,
                      49.2293
                    ]
                  }
                },
                {
                  "type": "Feature",
                  "properties": {
                    "Addresses": "Basel",
                    "ids": 2661603,
                    "geonames address": "Basel-Landschaft",
                    "style": {
                      "color": "black",
                      "fillColor": "green"
                    }
                  },
                  "geometry": {
                    "type": "Point",
                    "coordinates": [
                      7.70444,
                      47.50438
                    ]
                  }
                },
                {
                  "type": "Feature",
                  "properties": {
                    "Addresses": "Beilstein (Landkreis Cochem-Zell)",
                    "ids": 6553659,
                    "geonames address": "Beilstein",
                    "style": {
                      "color": "black",
                      "fillColor": "orange"
                    }
                  },
                  "geometry": {
                    "type": "Point",
                    "coordinates": [
                      7.24088,
                      50.09978
                    ]
                  }
                },
                {
                  "type": "Feature",
                  "properties": {
                    "Addresses": "Bennweiler (Bennwihr)",
                    "ids": "0",
                    "geonames address": "0",
                    "style": {
                      "color": "black",
                      "fillColor": "red"
                    }
                  },
                  "geometry": {
                    "type": "Point",
                    "coordinates": [
                      0,
                      0
                    ]
                  }
                },
                {
                  "type": "Feature",
                  "properties": {
                    "Addresses": "Bensheim",
                    "ids": 6557710,
                    "geonames address": "Bensheim",
                    "style": {
                      "color": "black",
                      "fillColor": "red"
                    }
                  },
                  "geometry": {
                    "type": "Point",
                    "coordinates": [
                      8.62837,
                      49.68667
                    ]
                  }
                },
                {
                  "type": "Feature",
                  "properties": {
                    "Addresses": "Beringhausen in Westfalen",
                    "ids": "0",
                    "geonames address": "0",
                    "style": {
                      "color": "black",
                      "fillColor": "red"
                    }
                  },
                  "geometry": {
                    "type": "Point",
                    "coordinates": [
                      0,
                      0
                    ]
                  }
                },
                {
                  "type": "Feature",
                  "properties": {
                    "Addresses": "Berlin",
                    "ids": 2950157,
                    "geonames address": "Land Berlin",
                    "style": {
                      "color": "black",
                      "fillColor": "orange"
                    }
                  },
                  "geometry": {
                    "type": "Point",
                    "coordinates": [
                      13.41667,
                      52.5
                    ]
                  }
                },
                {
                  "type": "Feature",
                  "properties": {
                    "Addresses": "Blankenhain",
                    "ids": 6551012,
                    "geonames address": "Blankenhain",
                    "style": {
                      "color": "black",
                      "fillColor": "green"
                    }
                  },
                  "geometry": {
                    "type": "Point",
                    "coordinates": [
                      11.35,
                      50.85
                    ]
                  }
                },
                {
                  "type": "Feature",
                  "properties": {
                    "Addresses": "Bochum",
                    "ids": 3221109,
                    "geonames address": "Kreisfreie Stadt Bochum",
                    "style": {
                      "color": "black",
                      "fillColor": "green"
                    }
                  },
                  "geometry": {
                    "type": "Point",
                    "coordinates": [
                      7.22806,
                      51.47389
                    ]
                  }
                },
                {
                  "type": "Feature",
                  "properties": {
                    "Addresses": "Bonau bei Teuchern",
                    "ids": "0",
                    "geonames address": "0",
                    "style": {
                      "color": "black",
                      "fillColor": "green"
                    }
                  },
                  "geometry": {
                    "type": "Point",
                    "coordinates": [
                      0,
                      0
                    ]
                  }
                },
                {
                  "type": "Feature",
                  "properties": {
                    "Addresses": "Bonn",
                    "ids": 3247450,
                    "geonames address": "Kreisfreie Stadt Bonn",
                    "style": {
                      "color": "black",
                      "fillColor": "yellow"
                    }
                  },
                  "geometry": {
                    "type": "Point",
                    "coordinates": [
                      7.11139,
                      50.71583
                    ]
                  }
                },
                {
                  "type": "Feature",
                  "properties": {
                    "Addresses": "Breslau ( Wrocław)",
                    "ids": 7531292,
                    "geonames address": "Wrocław",
                    "style": {
                      "color": "black",
                      "fillColor": "red"
                    }
                  },
                  "geometry": {
                    "type": "Point",
                    "coordinates": [
                      17.03533,
                      51.10773
                    ]
                  }
                },
                {
                  "type": "Feature",
                  "properties": {
                    "Addresses": "Buchtorp",
                    "ids": "0",
                    "geonames address": "0",
                    "style": {
                      "color": "black",
                      "fillColor": "yellow"
                    }
                  },
                  "geometry": {
                    "type": "Point",
                    "coordinates": [
                      0,
                      0
                    ]
                  }
                },
                {
                  "type": "Feature",
                  "properties": {
                    "Addresses": "Bürstadt",
                    "ids": 6557711,
                    "geonames address": "Bürstadt",
                    "style": {
                      "color": "black",
                      "fillColor": "yellow"
                    }
                  },
                  "geometry": {
                    "type": "Point",
                    "coordinates": [
                      8.4509,
                      49.6406
                    ]
                  }
                },
                {
                  "type": "Feature",
                  "properties": {
                    "Addresses": "Buttstädt",
                    "ids": 6550990,
                    "geonames address": "Buttstädt",
                    "style": {
                      "color": "black",
                      "fillColor": "green"
                    }
                  },
                  "geometry": {
                    "type": "Point",
                    "coordinates": [
                      11.4167,
                      51.1167
                    ]
                  }
                },
                {
                  "type": "Feature",
                  "properties": {
                    "Addresses": "Dänemark",
                    "ids": 2623032,
                    "geonames address": "Denmark",
                    "style": {
                      "color": "black",
                      "fillColor": "yellow"
                    }
                  },
                  "geometry": {
                    "type": "Point",
                    "coordinates": [
                      10,
                      56
                    ]
                  }
                },
                {
                  "type": "Feature",
                  "properties": {
                    "Addresses": "Darmstadt",
                    "ids": 2938912,
                    "geonames address": "Regierungsbezirk Darmstadt",
                    "style": {
                      "color": "black",
                      "fillColor": "red"
                    }
                  },
                  "geometry": {
                    "type": "Point",
                    "coordinates": [
                      8.75,
                      50
                    ]
                  }
                },
                {
                  "type": "Feature",
                  "properties": {
                    "Addresses": "Dieburg (Hessen)",
                    "ids": 3220966,
                    "geonames address": "Landkreis Darmstadt-Dieburg",
                    "style": {
                      "color": "black",
                      "fillColor": "green"
                    }
                  },
                  "geometry": {
                    "type": "Point",
                    "coordinates": [
                      8.75667,
                      49.85639
                    ]
                  }
                },
                {
                  "type": "Feature",
                  "properties": {
                    "Addresses": "Dresden",
                    "ids": 3305799,
                    "geonames address": "Dresden",
                    "style": {
                      "color": "black",
                      "fillColor": "orange"
                    }
                  },
                  "geometry": {
                    "type": "Point",
                    "coordinates": [
                      14.08333,
                      51.16667
                    ]
                  }
                },
                {
                  "type": "Feature",
                  "properties": {
                    "Addresses": "Duderstadt",
                    "ids": 6557372,
                    "geonames address": "Duderstadt",
                    "style": {
                      "color": "black",
                      "fillColor": "yellow"
                    }
                  },
                  "geometry": {
                    "type": "Point",
                    "coordinates": [
                      10.2385,
                      51.5158
                    ]
                  }
                },
                {
                  "type": "Feature",
                  "properties": {
                    "Addresses": "Düsseldorf",
                    "ids": 2934245,
                    "geonames address": "Düsseldorf District",
                    "style": {
                      "color": "black",
                      "fillColor": "red"
                    }
                  },
                  "geometry": {
                    "type": "Point",
                    "coordinates": [
                      6.6,
                      51.4
                    ]
                  }
                },
                {
                  "type": "Feature",
                  "properties": {
                    "Addresses": "Ehingen",
                    "ids": 6557131,
                    "geonames address": "Ehingen",
                    "style": {
                      "color": "black",
                      "fillColor": "green"
                    }
                  },
                  "geometry": {
                    "type": "Point",
                    "coordinates": [
                      10.8,
                      48.6
                    ]
                  }
                },
                {
                  "type": "Feature",
                  "properties": {
                    "Addresses": "Eichsfeld",
                    "ids": 6547387,
                    "geonames address": "Eichsfeld",
                    "style": {
                      "color": "black",
                      "fillColor": "yellow"
                    }
                  },
                  "geometry": {
                    "type": "Point",
                    "coordinates": [
                      10.21548,
                      51.37454
                    ]
                  }
                },
                {
                  "type": "Feature",
                  "properties": {
                    "Addresses": "Eisenach",
                    "ids": 6547386,
                    "geonames address": "Eisenach",
                    "style": {
                      "color": "black",
                      "fillColor": "yellow"
                    }
                  },
                  "geometry": {
                    "type": "Point",
                    "coordinates": [
                      10.33407,
                      50.97443
                    ]
                  }
                },
                {
                  "type": "Feature",
                  "properties": {
                    "Addresses": "Elleben",
                    "ids": 6550198,
                    "geonames address": "Elleben",
                    "style": {
                      "color": "black",
                      "fillColor": "green"
                    }
                  },
                  "geometry": {
                    "type": "Point",
                    "coordinates": [
                      11.0833,
                      50.8667
                    ]
                  }
                },
                {
                  "type": "Feature",
                  "properties": {
                    "Addresses": "Eltville am Rhein",
                    "ids": 6557759,
                    "geonames address": "Eltville am Rhein",
                    "style": {
                      "color": "black",
                      "fillColor": "yellow"
                    }
                  },
                  "geometry": {
                    "type": "Point",
                    "coordinates": [
                      8.11667,
                      50.0333
                    ]
                  }
                },
                {
                  "type": "Feature",
                  "properties": {
                    "Addresses": "Elvershausen",
                    "ids": "0",
                    "geonames address": "0",
                    "style": {
                      "color": "black",
                      "fillColor": "green"
                    }
                  },
                  "geometry": {
                    "type": "Point",
                    "coordinates": [
                      0,
                      0
                    ]
                  }
                },
                {
                  "type": "Feature",
                  "properties": {
                    "Addresses": "Erfuft",
                    "ids": "0",
                    "geonames address": "0",
                    "style": {
                      "color": "black",
                      "fillColor": "green"
                    }
                  },
                  "geometry": {
                    "type": "Point",
                    "coordinates": [
                      0,
                      0
                    ]
                  }
                },
                {
                  "type": "Feature",
                  "properties": {
                    "Addresses": "Erfurt",
                    "ids": 2929668,
                    "geonames address": "Kreisfreie Stadt Erfurt",
                    "style": {
                      "color": "black",
                      "fillColor": "orange"
                    }
                  },
                  "geometry": {
                    "type": "Point",
                    "coordinates": [
                      11.0425,
                      50.98278
                    ]
                  }
                },
                {
                  "type": "Feature",
                  "properties": {
                    "Addresses": "Essen",
                    "ids": 6553024,
                    "geonames address": "Essen",
                    "style": {
                      "color": "black",
                      "fillColor": "green"
                    }
                  },
                  "geometry": {
                    "type": "Point",
                    "coordinates": [
                      7.0102,
                      51.45355
                    ]
                  }
                },
                {
                  "type": "Feature",
                  "properties": {
                    "Addresses": "Esslingen am Neckar",
                    "ids": 6557941,
                    "geonames address": "Esslingen am Neckar",
                    "style": {
                      "color": "black",
                      "fillColor": "green"
                    }
                  },
                  "geometry": {
                    "type": "Point",
                    "coordinates": [
                      9.30609,
                      48.73936
                    ]
                  }
                },
                {
                  "type": "Feature",
                  "properties": {
                    "Addresses": "Europa",
                    "ids": 933910,
                    "geonames address": "Europa Island",
                    "style": {
                      "color": "black",
                      "fillColor": "green"
                    }
                  },
                  "geometry": {
                    "type": "Point",
                    "coordinates": [
                      40.36667,
                      -22.33333
                    ]
                  }
                },
                {
                  "type": "Feature",
                  "properties": {
                    "Addresses": "Frankfurt am Main",
                    "ids": 3220968,
                    "geonames address": "Frankfurt am Main",
                    "style": {
                      "color": "black",
                      "fillColor": "orange"
                    }
                  },
                  "geometry": {
                    "type": "Point",
                    "coordinates": [
                      8.66361,
                      50.13083
                    ]
                  }
                },
                {
                  "type": "Feature",
                  "properties": {
                    "Addresses": "Frankfurt an der Oder",
                    "ids": "0",
                    "geonames address": "0",
                    "style": {
                      "color": "black",
                      "fillColor": "yellow"
                    }
                  },
                  "geometry": {
                    "type": "Point",
                    "coordinates": [
                      0,
                      0
                    ]
                  }
                },
                {
                  "type": "Feature",
                  "properties": {
                    "Addresses": "Frankreich",
                    "ids": 3017382,
                    "geonames address": "France",
                    "style": {
                      "color": "black",
                      "fillColor": "green"
                    }
                  },
                  "geometry": {
                    "type": "Point",
                    "coordinates": [
                      2,
                      46
                    ]
                  }
                },
                {
                  "type": "Feature",
                  "properties": {
                    "Addresses": "Freiburg im Breisgau",
                    "ids": 3214107,
                    "geonames address": "Freiburg im Breisgau",
                    "style": {
                      "color": "black",
                      "fillColor": "yellow"
                    }
                  },
                  "geometry": {
                    "type": "Point",
                    "coordinates": [
                      7.8325,
                      48.00806
                    ]
                  }
                },
                {
                  "type": "Feature",
                  "properties": {
                    "Addresses": "Friedberg",
                    "ids": 2803463,
                    "geonames address": "Landkreis Aichach-Friedberg",
                    "style": {
                      "color": "black",
                      "fillColor": "red"
                    }
                  },
                  "geometry": {
                    "type": "Point",
                    "coordinates": [
                      11.05472,
                      48.41722
                    ]
                  }
                },
                {
                  "type": "Feature",
                  "properties": {
                    "Addresses": "Fulda",
                    "ids": 3220993,
                    "geonames address": "Landkreis Fulda",
                    "style": {
                      "color": "black",
                      "fillColor": "yellow"
                    }
                  },
                  "geometry": {
                    "type": "Point",
                    "coordinates": [
                      9.76111,
                      50.58278
                    ]
                  }
                },
                {
                  "type": "Feature",
                  "properties": {
                    "Addresses": "Gau-Algesheim",
                    "ids": 6557928,
                    "geonames address": "Gau-Algesheim",
                    "style": {
                      "color": "black",
                      "fillColor": "green"
                    }
                  },
                  "geometry": {
                    "type": "Point",
                    "coordinates": [
                      8.00946,
                      49.94992
                    ]
                  }
                },
                {
                  "type": "Feature",
                  "properties": {
                    "Addresses": "Gehren",
                    "ids": 6551003,
                    "geonames address": "Gehren",
                    "style": {
                      "color": "black",
                      "fillColor": "green"
                    }
                  },
                  "geometry": {
                    "type": "Point",
                    "coordinates": [
                      11.0023,
                      50.6384
                    ]
                  }
                },
                {
                  "type": "Feature",
                  "properties": {
                    "Addresses": "Geisenheim",
                    "ids": 6557760,
                    "geonames address": "Geisenheim",
                    "style": {
                      "color": "black",
                      "fillColor": "yellow"
                    }
                  },
                  "geometry": {
                    "type": "Point",
                    "coordinates": [
                      7.9793,
                      50.0056
                    ]
                  }
                },
                {
                  "type": "Feature",
                  "properties": {
                    "Addresses": "Georgenthal",
                    "ids": 12166099,
                    "geonames address": "Georgenthal",
                    "style": {
                      "color": "black",
                      "fillColor": "green"
                    }
                  },
                  "geometry": {
                    "type": "Point",
                    "coordinates": [
                      10.66072,
                      50.83011
                    ]
                  }
                },
                {
                  "type": "Feature",
                  "properties": {
                    "Addresses": "Gerolzhofen",
                    "ids": 6558395,
                    "geonames address": "Gerolzhofen",
                    "style": {
                      "color": "black",
                      "fillColor": "green"
                    }
                  },
                  "geometry": {
                    "type": "Point",
                    "coordinates": [
                      10.346,
                      49.9016
                    ]
                  }
                },
                {
                  "type": "Feature",
                  "properties": {
                    "Addresses": "Gieboldehausen",
                    "ids": 6558860,
                    "geonames address": "Gieboldehausen, Flecken",
                    "style": {
                      "color": "black",
                      "fillColor": "red"
                    }
                  },
                  "geometry": {
                    "type": "Point",
                    "coordinates": [
                      10.2167,
                      51.6167
                    ]
                  }
                },
                {
                  "type": "Feature",
                  "properties": {
                    "Addresses": "Gmünd (Niederösterreich)",
                    "ids": 2778438,
                    "geonames address": "Politischer Bezirk Gmünd",
                    "style": {
                      "color": "black",
                      "fillColor": "green"
                    }
                  },
                  "geometry": {
                    "type": "Point",
                    "coordinates": [
                      14.98166,
                      48.74732
                    ]
                  }
                },
                {
                  "type": "Feature",
                  "properties": {
                    "Addresses": "Goch",
                    "ids": 7297133,
                    "geonames address": "Betws Gwerfil Goch",
                    "style": {
                      "color": "black",
                      "fillColor": "red"
                    }
                  },
                  "geometry": {
                    "type": "Point",
                    "coordinates": [
                      -3.44626,
                      53.02323
                    ]
                  }
                },
                {
                  "type": "Feature",
                  "properties": {
                    "Addresses": "Gotha",
                    "ids": 2918750,
                    "geonames address": "Landkreis Gotha",
                    "style": {
                      "color": "black",
                      "fillColor": "yellow"
                    }
                  },
                  "geometry": {
                    "type": "Point",
                    "coordinates": [
                      10.71194,
                      50.91056
                    ]
                  }
                },
                {
                  "type": "Feature",
                  "properties": {
                    "Addresses": "Göttingen",
                    "ids": 3221013,
                    "geonames address": "Landkreis Göttingen",
                    "style": {
                      "color": "black",
                      "fillColor": "green"
                    }
                  },
                  "geometry": {
                    "type": "Point",
                    "coordinates": [
                      9.91361,
                      51.51083
                    ]
                  }
                },
                {
                  "type": "Feature",
                  "properties": {
                    "Addresses": "Graz",
                    "ids": 2778057,
                    "geonames address": "Politischer Bezirk Graz-Umgebung",
                    "style": {
                      "color": "black",
                      "fillColor": "green"
                    }
                  },
                  "geometry": {
                    "type": "Point",
                    "coordinates": [
                      15.38823,
                      47.1386
                    ]
                  }
                },
                {
                  "type": "Feature",
                  "properties": {
                    "Addresses": "Großbartloff",
                    "ids": 6549778,
                    "geonames address": "Großbartloff",
                    "style": {
                      "color": "black",
                      "fillColor": "red"
                    }
                  },
                  "geometry": {
                    "type": "Point",
                    "coordinates": [
                      10.2167,
                      51.25
                    ]
                  }
                },
                {
                  "type": "Feature",
                  "properties": {
                    "Addresses": "Großmölsen bei Erfurt",
                    "ids": "0",
                    "geonames address": "0",
                    "style": {
                      "color": "black",
                      "fillColor": "yellow"
                    }
                  },
                  "geometry": {
                    "type": "Point",
                    "coordinates": [
                      0,
                      0
                    ]
                  }
                },
                {
                  "type": "Feature",
                  "properties": {
                    "Addresses": "Großostheim",
                    "ids": 6558681,
                    "geonames address": "Großostheim, Markt",
                    "style": {
                      "color": "black",
                      "fillColor": "red"
                    }
                  },
                  "geometry": {
                    "type": "Point",
                    "coordinates": [
                      9.0859,
                      49.9303
                    ]
                  }
                },
                {
                  "type": "Feature",
                  "properties": {
                    "Addresses": "Großvargula",
                    "ids": 6549917,
                    "geonames address": "Großvargula",
                    "style": {
                      "color": "black",
                      "fillColor": "yellow"
                    }
                  },
                  "geometry": {
                    "type": "Point",
                    "coordinates": [
                      10.7833,
                      51.1167
                    ]
                  }
                },
                {
                  "type": "Feature",
                  "properties": {
                    "Addresses": "Gut Geschwende",
                    "ids": "0",
                    "geonames address": "0",
                    "style": {
                      "color": "black",
                      "fillColor": "yellow"
                    }
                  },
                  "geometry": {
                    "type": "Point",
                    "coordinates": [
                      0,
                      0
                    ]
                  }
                },
                {
                  "type": "Feature",
                  "properties": {
                    "Addresses": "Hadamar",
                    "ids": 6557789,
                    "geonames address": "Hadamar",
                    "style": {
                      "color": "black",
                      "fillColor": "green"
                    }
                  },
                  "geometry": {
                    "type": "Point",
                    "coordinates": [
                      8.05,
                      50.45
                    ]
                  }
                },
                {
                  "type": "Feature",
                  "properties": {
                    "Addresses": "Hamburg",
                    "ids": 2911297,
                    "geonames address": "Hamburg",
                    "style": {
                      "color": "black",
                      "fillColor": "orange"
                    }
                  },
                  "geometry": {
                    "type": "Point",
                    "coordinates": [
                      10,
                      53.58333
                    ]
                  }
                },
                {
                  "type": "Feature",
                  "properties": {
                    "Addresses": "Hameln",
                    "ids": 3221027,
                    "geonames address": "Landkreis Hameln-Pyrmont",
                    "style": {
                      "color": "black",
                      "fillColor": "green"
                    }
                  },
                  "geometry": {
                    "type": "Point",
                    "coordinates": [
                      9.40111,
                      52.11111
                    ]
                  }
                },
                {
                  "type": "Feature",
                  "properties": {
                    "Addresses": "Hamm",
                    "ids": 8736809,
                    "geonames address": "Āl Ḩamm",
                    "style": {
                      "color": "black",
                      "fillColor": "green"
                    }
                  },
                  "geometry": {
                    "type": "Point",
                    "coordinates": [
                      45.19538,
                      14.93671
                    ]
                  }
                },
                {
                  "type": "Feature",
                  "properties": {
                    "Addresses": "Hammelburg",
                    "ids": 6558373,
                    "geonames address": "Hammelburg",
                    "style": {
                      "color": "black",
                      "fillColor": "red"
                    }
                  },
                  "geometry": {
                    "type": "Point",
                    "coordinates": [
                      9.8904,
                      50.1148
                    ]
                  }
                },
                {
                  "type": "Feature",
                  "properties": {
                    "Addresses": "Hannover",
                    "ids": 3221033,
                    "geonames address": "Region Hannover",
                    "style": {
                      "color": "black",
                      "fillColor": "green"
                    }
                  },
                  "geometry": {
                    "type": "Point",
                    "coordinates": [
                      9.74,
                      52.44889
                    ]
                  }
                },
                {
                  "type": "Feature",
                  "properties": {
                    "Addresses": "Harburg",
                    "ids": 6559045,
                    "geonames address": "Harburg (Schwaben)",
                    "style": {
                      "color": "black",
                      "fillColor": "yellow"
                    }
                  },
                  "geometry": {
                    "type": "Point",
                    "coordinates": [
                      10.69269,
                      48.7857
                    ]
                  }
                },
                {
                  "type": "Feature",
                  "properties": {
                    "Addresses": "Heidelberg",
                    "ids": 3220720,
                    "geonames address": "Stadtkreis Heidelberg",
                    "style": {
                      "color": "black",
                      "fillColor": "orange"
                    }
                  },
                  "geometry": {
                    "type": "Point",
                    "coordinates": [
                      8.69556,
                      49.41056
                    ]
                  }
                },
                {
                  "type": "Feature",
                  "properties": {
                    "Addresses": "Heiligenstadt",
                    "ids": 6550959,
                    "geonames address": "Heilbad Heiligenstadt",
                    "style": {
                      "color": "black",
                      "fillColor": "green"
                    }
                  },
                  "geometry": {
                    "type": "Point",
                    "coordinates": [
                      10.1495,
                      51.37395
                    ]
                  }
                },
                {
                  "type": "Feature",
                  "properties": {
                    "Addresses": "Heiligenstadt auf dem Eichsfelde",
                    "ids": "0",
                    "geonames address": "0",
                    "style": {
                      "color": "black",
                      "fillColor": "red"
                    }
                  },
                  "geometry": {
                    "type": "Point",
                    "coordinates": [
                      0,
                      0
                    ]
                  }
                },
                {
                  "type": "Feature",
                  "properties": {
                    "Addresses": "Heiligenstadt Eichsfeld ( Heilbad Heiligenstadt)",
                    "ids": 6550959,
                    "geonames address": "Heilbad Heiligenstadt",
                    "style": {
                      "color": "black",
                      "fillColor": "green"
                    }
                  },
                  "geometry": {
                    "type": "Point",
                    "coordinates": [
                      10.1495,
                      51.37395
                    ]
                  }
                },
                {
                  "type": "Feature",
                  "properties": {
                    "Addresses": "Herdringen",
                    "ids": "0",
                    "geonames address": "0",
                    "style": {
                      "color": "black",
                      "fillColor": "green"
                    }
                  },
                  "geometry": {
                    "type": "Point",
                    "coordinates": [
                      0,
                      0
                    ]
                  }
                },
                {
                  "type": "Feature",
                  "properties": {
                    "Addresses": "Herzogenbusch (’s-Hertogenbosch)",
                    "ids": "0",
                    "geonames address": "0",
                    "style": {
                      "color": "black",
                      "fillColor": "green"
                    }
                  },
                  "geometry": {
                    "type": "Point",
                    "coordinates": [
                      0,
                      0
                    ]
                  }
                },
                {
                  "type": "Feature",
                  "properties": {
                    "Addresses": "Hessen",
                    "ids": 2905330,
                    "geonames address": "Hesse",
                    "style": {
                      "color": "black",
                      "fillColor": "green"
                    }
                  },
                  "geometry": {
                    "type": "Point",
                    "coordinates": [
                      9,
                      50.55
                    ]
                  }
                },
                {
                  "type": "Feature",
                  "properties": {
                    "Addresses": "Hildesheim",
                    "ids": 2803461,
                    "geonames address": "Landkreis Hildesheim",
                    "style": {
                      "color": "black",
                      "fillColor": "yellow"
                    }
                  },
                  "geometry": {
                    "type": "Point",
                    "coordinates": [
                      9.965,
                      52.12667
                    ]
                  }
                },
                {
                  "type": "Feature",
                  "properties": {
                    "Addresses": "Hoch-Weisel (Butzbach)",
                    "ids": "0",
                    "geonames address": "0",
                    "style": {
                      "color": "black",
                      "fillColor": "orange"
                    }
                  },
                  "geometry": {
                    "type": "Point",
                    "coordinates": [
                      0,
                      0
                    ]
                  }
                },
                {
                  "type": "Feature",
                  "properties": {
                    "Addresses": "Hofheim (Unterfranken)",
                    "ids": 6559007,
                    "geonames address": "Hofheim i.UFr.",
                    "style": {
                      "color": "black",
                      "fillColor": "green"
                    }
                  },
                  "geometry": {
                    "type": "Point",
                    "coordinates": [
                      10.52295,
                      50.1349
                    ]
                  }
                },
                {
                  "type": "Feature",
                  "properties": {
                    "Addresses": "Holzweiler (Erkelenz)",
                    "ids": "0",
                    "geonames address": "0",
                    "style": {
                      "color": "black",
                      "fillColor": "green"
                    }
                  },
                  "geometry": {
                    "type": "Point",
                    "coordinates": [
                      0,
                      0
                    ]
                  }
                },
                {
                  "type": "Feature",
                  "properties": {
                    "Addresses": "Horsens (Dänemark)",
                    "ids": 2619767,
                    "geonames address": "Horsens Kommune",
                    "style": {
                      "color": "black",
                      "fillColor": "yellow"
                    }
                  },
                  "geometry": {
                    "type": "Point",
                    "coordinates": [
                      9.77377,
                      55.9274
                    ]
                  }
                },
                {
                  "type": "Feature",
                  "properties": {
                    "Addresses": "Ichtershausen",
                    "ids": 6550210,
                    "geonames address": "Amt Wachsenburg",
                    "style": {
                      "color": "black",
                      "fillColor": "orange"
                    }
                  },
                  "geometry": {
                    "type": "Point",
                    "coordinates": [
                      10.91537,
                      50.86587
                    ]
                  }
                },
                {
                  "type": "Feature",
                  "properties": {
                    "Addresses": "Idstein",
                    "ids": 6557761,
                    "geonames address": "Idstein",
                    "style": {
                      "color": "black",
                      "fillColor": "yellow"
                    }
                  },
                  "geometry": {
                    "type": "Point",
                    "coordinates": [
                      8.25373,
                      50.22347
                    ]
                  }
                },
                {
                  "type": "Feature",
                  "properties": {
                    "Addresses": "Ingolstadt",
                    "ids": 3220833,
                    "geonames address": "Kreisfreie Stadt Ingolstadt",
                    "style": {
                      "color": "black",
                      "fillColor": "yellow"
                    }
                  },
                  "geometry": {
                    "type": "Point",
                    "coordinates": [
                      11.40889,
                      48.76028
                    ]
                  }
                },
                {
                  "type": "Feature",
                  "properties": {
                    "Addresses": "Jena",
                    "ids": 2895042,
                    "geonames address": "Kreisfreie Stadt Jena",
                    "style": {
                      "color": "black",
                      "fillColor": "green"
                    }
                  },
                  "geometry": {
                    "type": "Point",
                    "coordinates": [
                      11.59056,
                      50.93194
                    ]
                  }
                },
                {
                  "type": "Feature",
                  "properties": {
                    "Addresses": "Johannisberg (Rheingau)",
                    "ids": "0",
                    "geonames address": "0",
                    "style": {
                      "color": "black",
                      "fillColor": "orange"
                    }
                  },
                  "geometry": {
                    "type": "Point",
                    "coordinates": [
                      0,
                      0
                    ]
                  }
                },
                {
                  "type": "Feature",
                  "properties": {
                    "Addresses": "Kaiserswerth (Düsseldorf)",
                    "ids": "0",
                    "geonames address": "0",
                    "style": {
                      "color": "black",
                      "fillColor": "green"
                    }
                  },
                  "geometry": {
                    "type": "Point",
                    "coordinates": [
                      0,
                      0
                    ]
                  }
                },
                {
                  "type": "Feature",
                  "properties": {
                    "Addresses": "Kassel",
                    "ids": 2892513,
                    "geonames address": "Regierungsbezirk Kassel",
                    "style": {
                      "color": "black",
                      "fillColor": "orange"
                    }
                  },
                  "geometry": {
                    "type": "Point",
                    "coordinates": [
                      9.4,
                      51.08333
                    ]
                  }
                },
                {
                  "type": "Feature",
                  "properties": {
                    "Addresses": "Kirchworbis",
                    "ids": 6549793,
                    "geonames address": "Kirchworbis",
                    "style": {
                      "color": "black",
                      "fillColor": "red"
                    }
                  },
                  "geometry": {
                    "type": "Point",
                    "coordinates": [
                      10.39407,
                      51.40661
                    ]
                  }
                },
                {
                  "type": "Feature",
                  "properties": {
                    "Addresses": "Kirchworbis auf dem Eichsfelde",
                    "ids": "0",
                    "geonames address": "0",
                    "style": {
                      "color": "black",
                      "fillColor": "yellow"
                    }
                  },
                  "geometry": {
                    "type": "Point",
                    "coordinates": [
                      0,
                      0
                    ]
                  }
                },
                {
                  "type": "Feature",
                  "properties": {
                    "Addresses": "Kitzingen",
                    "ids": 3220892,
                    "geonames address": "Landkreis Kitzingen",
                    "style": {
                      "color": "black",
                      "fillColor": "yellow"
                    }
                  },
                  "geometry": {
                    "type": "Point",
                    "coordinates": [
                      10.28111,
                      49.76972
                    ]
                  }
                },
                {
                  "type": "Feature",
                  "properties": {
                    "Addresses": "Koblenz",
                    "ids": 7286213,
                    "geonames address": "Koblenz",
                    "style": {
                      "color": "black",
                      "fillColor": "yellow"
                    }
                  },
                  "geometry": {
                    "type": "Point",
                    "coordinates": [
                      8.24474,
                      47.60439
                    ]
                  }
                },
                {
                  "type": "Feature",
                  "properties": {
                    "Addresses": "Köln",
                    "ids": 2886241,
                    "geonames address": "Cologne District",
                    "style": {
                      "color": "black",
                      "fillColor": "orange"
                    }
                  },
                  "geometry": {
                    "type": "Point",
                    "coordinates": [
                      6.8666,
                      50.78333
                    ]
                  }
                },
                {
                  "type": "Feature",
                  "properties": {
                    "Addresses": "Konstanz",
                    "ids": 2885678,
                    "geonames address": "Landkreis Konstanz",
                    "style": {
                      "color": "black",
                      "fillColor": "orange"
                    }
                  },
                  "geometry": {
                    "type": "Point",
                    "coordinates": [
                      8.87694,
                      47.80694
                    ]
                  }
                },
                {
                  "type": "Feature",
                  "properties": {
                    "Addresses": "Langensalza",
                    "ids": 6550971,
                    "geonames address": "Bad Langensalza",
                    "style": {
                      "color": "black",
                      "fillColor": "orange"
                    }
                  },
                  "geometry": {
                    "type": "Point",
                    "coordinates": [
                      10.6542,
                      51.1111
                    ]
                  }
                },
                {
                  "type": "Feature",
                  "properties": {
                    "Addresses": "Leinefelde (Eichsfeld)",
                    "ids": 7602636,
                    "geonames address": "Leinefelde-Worbis",
                    "style": {
                      "color": "black",
                      "fillColor": "red"
                    }
                  },
                  "geometry": {
                    "type": "Point",
                    "coordinates": [
                      10.33333,
                      51.37915
                    ]
                  }
                },
                {
                  "type": "Feature",
                  "properties": {
                    "Addresses": "Leipzig",
                    "ids": 3305800,
                    "geonames address": "Direktionsbezirk Leipzig",
                    "style": {
                      "color": "black",
                      "fillColor": "green"
                    }
                  },
                  "geometry": {
                    "type": "Point",
                    "coordinates": [
                      12.75,
                      51.25
                    ]
                  }
                },
                {
                  "type": "Feature",
                  "properties": {
                    "Addresses": "Lohr am Main",
                    "ids": 6559021,
                    "geonames address": "Lohr a.Main",
                    "style": {
                      "color": "black",
                      "fillColor": "orange"
                    }
                  },
                  "geometry": {
                    "type": "Point",
                    "coordinates": [
                      9.5735,
                      49.9955
                    ]
                  }
                },
                {
                  "type": "Feature",
                  "properties": {
                    "Addresses": "London",
                    "ids": 4839420,
                    "geonames address": "New London",
                    "style": {
                      "color": "black",
                      "fillColor": "yellow"
                    }
                  },
                  "geometry": {
                    "type": "Point",
                    "coordinates": [
                      -72.1065,
                      41.46678
                    ]
                  }
                },
                {
                  "type": "Feature",
                  "properties": {
                    "Addresses": "Lorch",
                    "ids": 6557762,
                    "geonames address": "Lorch",
                    "style": {
                      "color": "black",
                      "fillColor": "yellow"
                    }
                  },
                  "geometry": {
                    "type": "Point",
                    "coordinates": [
                      7.81667,
                      50.05
                    ]
                  }
                },
                {
                  "type": "Feature",
                  "properties": {
                    "Addresses": "Lyon",
                    "ids": 4274916,
                    "geonames address": "Lyon",
                    "style": {
                      "color": "black",
                      "fillColor": "orange"
                    }
                  },
                  "geometry": {
                    "type": "Point",
                    "coordinates": [
                      -96.15264,
                      38.45619
                    ]
                  }
                },
                {
                  "type": "Feature",
                  "properties": {
                    "Addresses": "Mainz",
                    "ids": 3247465,
                    "geonames address": "Kreisfreie Stadt Mainz",
                    "style": {
                      "color": "black",
                      "fillColor": "yellow"
                    }
                  },
                  "geometry": {
                    "type": "Point",
                    "coordinates": [
                      8.25361,
                      49.99167
                    ]
                  }
                },
                {
                  "type": "Feature",
                  "properties": {
                    "Addresses": "Mainz-Hechtsheim",
                    "ids": "0",
                    "geonames address": "0",
                    "style": {
                      "color": "black",
                      "fillColor": "yellow"
                    }
                  },
                  "geometry": {
                    "type": "Point",
                    "coordinates": [
                      0,
                      0
                    ]
                  }
                },
                {
                  "type": "Feature",
                  "properties": {
                    "Addresses": "Mannheim",
                    "ids": 3220722,
                    "geonames address": "Stadtkreis Mannheim",
                    "style": {
                      "color": "black",
                      "fillColor": "green"
                    }
                  },
                  "geometry": {
                    "type": "Point",
                    "coordinates": [
                      8.5,
                      49.49639
                    ]
                  }
                },
                {
                  "type": "Feature",
                  "properties": {
                    "Addresses": "Marburg",
                    "ids": 3195505,
                    "geonames address": "Maribor",
                    "style": {
                      "color": "black",
                      "fillColor": "green"
                    }
                  },
                  "geometry": {
                    "type": "Point",
                    "coordinates": [
                      15.64306,
                      46.55611
                    ]
                  }
                },
                {
                  "type": "Feature",
                  "properties": {
                    "Addresses": "Mayen",
                    "ids": 3041964,
                    "geonames address": "Jan Mayen",
                    "style": {
                      "color": "black",
                      "fillColor": "orange"
                    }
                  },
                  "geometry": {
                    "type": "Point",
                    "coordinates": [
                      -8.5,
                      70.98333
                    ]
                  }
                },
                {
                  "type": "Feature",
                  "properties": {
                    "Addresses": "Meiningen (Thüringen)",
                    "ids": 3302169,
                    "geonames address": "Landkreis Schmalkalden-Meiningen",
                    "style": {
                      "color": "black",
                      "fillColor": "green"
                    }
                  },
                  "geometry": {
                    "type": "Point",
                    "coordinates": [
                      10.41528,
                      50.62083
                    ]
                  }
                },
                {
                  "type": "Feature",
                  "properties": {
                    "Addresses": "Meiringen (Schweiz)",
                    "ids": 7286475,
                    "geonames address": "Meiringen",
                    "style": {
                      "color": "black",
                      "fillColor": "orange"
                    }
                  },
                  "geometry": {
                    "type": "Point",
                    "coordinates": [
                      8.18923,
                      46.72597
                    ]
                  }
                },
                {
                  "type": "Feature",
                  "properties": {
                    "Addresses": "Meisenbach am Main",
                    "ids": "0",
                    "geonames address": "0",
                    "style": {
                      "color": "black",
                      "fillColor": "red"
                    }
                  },
                  "geometry": {
                    "type": "Point",
                    "coordinates": [
                      0,
                      0
                    ]
                  }
                },
                {
                  "type": "Feature",
                  "properties": {
                    "Addresses": "Melsungen",
                    "ids": 6557825,
                    "geonames address": "Melsungen",
                    "style": {
                      "color": "black",
                      "fillColor": "orange"
                    }
                  },
                  "geometry": {
                    "type": "Point",
                    "coordinates": [
                      9.54103,
                      51.1277
                    ]
                  }
                },
                {
                  "type": "Feature",
                  "properties": {
                    "Addresses": "Meschede",
                    "ids": 6557672,
                    "geonames address": "Meschede",
                    "style": {
                      "color": "black",
                      "fillColor": "green"
                    }
                  },
                  "geometry": {
                    "type": "Point",
                    "coordinates": [
                      8.3015,
                      51.32335
                    ]
                  }
                },
                {
                  "type": "Feature",
                  "properties": {
                    "Addresses": "Mittweida",
                    "ids": 6551121,
                    "geonames address": "Mittweida",
                    "style": {
                      "color": "black",
                      "fillColor": "yellow"
                    }
                  },
                  "geometry": {
                    "type": "Point",
                    "coordinates": [
                      12.98103,
                      50.982
                    ]
                  }
                },
                {
                  "type": "Feature",
                  "properties": {
                    "Addresses": "Mittweide",
                    "ids": "0",
                    "geonames address": "0",
                    "style": {
                      "color": "black",
                      "fillColor": "red"
                    }
                  },
                  "geometry": {
                    "type": "Point",
                    "coordinates": [
                      0,
                      0
                    ]
                  }
                },
                {
                  "type": "Feature",
                  "properties": {
                    "Addresses": "Montabaur",
                    "ids": 6557891,
                    "geonames address": "Montabaur",
                    "style": {
                      "color": "black",
                      "fillColor": "orange"
                    }
                  },
                  "geometry": {
                    "type": "Point",
                    "coordinates": [
                      7.81987,
                      50.43558
                    ]
                  }
                },
                {
                  "type": "Feature",
                  "properties": {
                    "Addresses": "Mühlberg",
                    "ids": 6550602,
                    "geonames address": "Mühlberg/Elbe",
                    "style": {
                      "color": "black",
                      "fillColor": "orange"
                    }
                  },
                  "geometry": {
                    "type": "Point",
                    "coordinates": [
                      13.2167,
                      51.4333
                    ]
                  }
                },
                {
                  "type": "Feature",
                  "properties": {
                    "Addresses": "Mühlhausen",
                    "ids": 6550973,
                    "geonames address": "Mühlhausen/Thüringen",
                    "style": {
                      "color": "black",
                      "fillColor": "orange"
                    }
                  },
                  "geometry": {
                    "type": "Point",
                    "coordinates": [
                      10.453,
                      51.2217
                    ]
                  }
                },
                {
                  "type": "Feature",
                  "properties": {
                    "Addresses": "München",
                    "ids": 3220838,
                    "geonames address": "Munich",
                    "style": {
                      "color": "black",
                      "fillColor": "yellow"
                    }
                  },
                  "geometry": {
                    "type": "Point",
                    "coordinates": [
                      11.64222,
                      48.05139
                    ]
                  }
                },
                {
                  "type": "Feature",
                  "properties": {
                    "Addresses": "Münstermaifeld",
                    "ids": 6557872,
                    "geonames address": "Münstermaifeld",
                    "style": {
                      "color": "black",
                      "fillColor": "green"
                    }
                  },
                  "geometry": {
                    "type": "Point",
                    "coordinates": [
                      7.36667,
                      50.25
                    ]
                  }
                },
                {
                  "type": "Feature",
                  "properties": {
                    "Addresses": "Münzenberg",
                    "ids": 6557772,
                    "geonames address": "Münzenberg",
                    "style": {
                      "color": "black",
                      "fillColor": "yellow"
                    }
                  },
                  "geometry": {
                    "type": "Point",
                    "coordinates": [
                      8.7293,
                      50.4563
                    ]
                  }
                },
                {
                  "type": "Feature",
                  "properties": {
                    "Addresses": "Naumburg",
                    "ids": 6557818,
                    "geonames address": "Naumburg",
                    "style": {
                      "color": "black",
                      "fillColor": "red"
                    }
                  },
                  "geometry": {
                    "type": "Point",
                    "coordinates": [
                      9.16667,
                      51.25
                    ]
                  }
                },
                {
                  "type": "Feature",
                  "properties": {
                    "Addresses": "Naumburg (Saale)",
                    "ids": 6551223,
                    "geonames address": "Naumburg (Saale)",
                    "style": {
                      "color": "black",
                      "fillColor": "yellow"
                    }
                  },
                  "geometry": {
                    "type": "Point",
                    "coordinates": [
                      11.82975,
                      51.14125
                    ]
                  }
                },
                {
                  "type": "Feature",
                  "properties": {
                    "Addresses": "Neubamberg",
                    "ids": "0",
                    "geonames address": "0",
                    "style": {
                      "color": "black",
                      "fillColor": "green"
                    }
                  },
                  "geometry": {
                    "type": "Point",
                    "coordinates": [
                      0,
                      0
                    ]
                  }
                },
                {
                  "type": "Feature",
                  "properties": {
                    "Addresses": "Neuhausen (auf den Fildern)",
                    "ids": 6555428,
                    "geonames address": "Neuhausen auf den Fildern",
                    "style": {
                      "color": "black",
                      "fillColor": "green"
                    }
                  },
                  "geometry": {
                    "type": "Point",
                    "coordinates": [
                      9.28333,
                      48.6833
                    ]
                  }
                },
                {
                  "type": "Feature",
                  "properties": {
                    "Addresses": "Neuss",
                    "ids": 3247434,
                    "geonames address": "Rhein-Kreis Neuss",
                    "style": {
                      "color": "black",
                      "fillColor": "green"
                    }
                  },
                  "geometry": {
                    "type": "Point",
                    "coordinates": [
                      6.65389,
                      51.16528
                    ]
                  }
                },
                {
                  "type": "Feature",
                  "properties": {
                    "Addresses": "Neuworbis",
                    "ids": "0",
                    "geonames address": "0",
                    "style": {
                      "color": "black",
                      "fillColor": "yellow"
                    }
                  },
                  "geometry": {
                    "type": "Point",
                    "coordinates": [
                      0,
                      0
                    ]
                  }
                },
                {
                  "type": "Feature",
                  "properties": {
                    "Addresses": "Niederlande",
                    "ids": 2750405,
                    "geonames address": "Netherlands",
                    "style": {
                      "color": "black",
                      "fillColor": "green"
                    }
                  },
                  "geometry": {
                    "type": "Point",
                    "coordinates": [
                      5.75,
                      52.25
                    ]
                  }
                },
                {
                  "type": "Feature",
                  "properties": {
                    "Addresses": "Niedernhausen",
                    "ids": 6553201,
                    "geonames address": "Niedernhausen",
                    "style": {
                      "color": "black",
                      "fillColor": "red"
                    }
                  },
                  "geometry": {
                    "type": "Point",
                    "coordinates": [
                      8.29675,
                      50.16938
                    ]
                  }
                },
                {
                  "type": "Feature",
                  "properties": {
                    "Addresses": "Nürnberg",
                    "ids": 3220803,
                    "geonames address": "Nuremberg",
                    "style": {
                      "color": "black",
                      "fillColor": "yellow"
                    }
                  },
                  "geometry": {
                    "type": "Point",
                    "coordinates": [
                      11.08528,
                      49.43083
                    ]
                  }
                },
                {
                  "type": "Feature",
                  "properties": {
                    "Addresses": "Ohrdruf",
                    "ids": 6550988,
                    "geonames address": "Ohrdruf",
                    "style": {
                      "color": "black",
                      "fillColor": "red"
                    }
                  },
                  "geometry": {
                    "type": "Point",
                    "coordinates": [
                      10.7333,
                      50.8167
                    ]
                  }
                },
                {
                  "type": "Feature",
                  "properties": {
                    "Addresses": "Oldendorf an der Weser",
                    "ids": "0",
                    "geonames address": "0",
                    "style": {
                      "color": "black",
                      "fillColor": "green"
                    }
                  },
                  "geometry": {
                    "type": "Point",
                    "coordinates": [
                      0,
                      0
                    ]
                  }
                },
                {
                  "type": "Feature",
                  "properties": {
                    "Addresses": "Olm",
                    "ids": 6616447,
                    "geonames address": "Saint-Étienne-de-l'Olm",
                    "style": {
                      "color": "black",
                      "fillColor": "orange"
                    }
                  },
                  "geometry": {
                    "type": "Point",
                    "coordinates": [
                      4.1849,
                      44.0586
                    ]
                  }
                },
                {
                  "type": "Feature",
                  "properties": {
                    "Addresses": "Orb",
                    "ids": 6432538,
                    "geonames address": "Lignan-sur-Orb",
                    "style": {
                      "color": "black",
                      "fillColor": "yellow"
                    }
                  },
                  "geometry": {
                    "type": "Point",
                    "coordinates": [
                      3.17028,
                      43.38389
                    ]
                  }
                },
                {
                  "type": "Feature",
                  "properties": {
                    "Addresses": "Paris",
                    "ids": 2968815,
                    "geonames address": "Paris",
                    "style": {
                      "color": "black",
                      "fillColor": "red"
                    }
                  },
                  "geometry": {
                    "type": "Point",
                    "coordinates": [
                      2.3486,
                      48.8534
                    ]
                  }
                },
                {
                  "type": "Feature",
                  "properties": {
                    "Addresses": "Polen",
                    "ids": 798544,
                    "geonames address": "Poland",
                    "style": {
                      "color": "black",
                      "fillColor": "red"
                    }
                  },
                  "geometry": {
                    "type": "Point",
                    "coordinates": [
                      20,
                      52
                    ]
                  }
                },
                {
                  "type": "Feature",
                  "properties": {
                    "Addresses": "Posen",
                    "ids": 5042176,
                    "geonames address": "Posen Township",
                    "style": {
                      "color": "black",
                      "fillColor": "yellow"
                    }
                  },
                  "geometry": {
                    "type": "Point",
                    "coordinates": [
                      -95.54356,
                      44.5858
                    ]
                  }
                },
                {
                  "type": "Feature",
                  "properties": {
                    "Addresses": "Prag",
                    "ids": 1153080,
                    "geonames address": "Kanchanaburi",
                    "style": {
                      "color": "black",
                      "fillColor": "red"
                    }
                  },
                  "geometry": {
                    "type": "Point",
                    "coordinates": [
                      99.1,
                      14.63333
                    ]
                  }
                },
                {
                  "type": "Feature",
                  "properties": {
                    "Addresses": "Regensburg",
                    "ids": 3220857,
                    "geonames address": "Regensburg",
                    "style": {
                      "color": "black",
                      "fillColor": "orange"
                    }
                  },
                  "geometry": {
                    "type": "Point",
                    "coordinates": [
                      12.1119,
                      49.01315
                    ]
                  }
                },
                {
                  "type": "Feature",
                  "properties": {
                    "Addresses": "Reiffenstein",
                    "ids": "0",
                    "geonames address": "0",
                    "style": {
                      "color": "black",
                      "fillColor": "yellow"
                    }
                  },
                  "geometry": {
                    "type": "Point",
                    "coordinates": [
                      0,
                      0
                    ]
                  }
                },
                {
                  "type": "Feature",
                  "properties": {
                    "Addresses": "Saarburg",
                    "ids": 2821160,
                    "geonames address": "Landkreis Trier-Saarburg",
                    "style": {
                      "color": "black",
                      "fillColor": "red"
                    }
                  },
                  "geometry": {
                    "type": "Point",
                    "coordinates": [
                      6.71972,
                      49.70722
                    ]
                  }
                },
                {
                  "type": "Feature",
                  "properties": {
                    "Addresses": "Schleiz",
                    "ids": 6551035,
                    "geonames address": "Schleiz",
                    "style": {
                      "color": "black",
                      "fillColor": "green"
                    }
                  },
                  "geometry": {
                    "type": "Point",
                    "coordinates": [
                      11.82089,
                      50.5603
                    ]
                  }
                },
                {
                  "type": "Feature",
                  "properties": {
                    "Addresses": "Schlossvippach",
                    "ids": 6550153,
                    "geonames address": "Schloßvippach",
                    "style": {
                      "color": "black",
                      "fillColor": "red"
                    }
                  },
                  "geometry": {
                    "type": "Point",
                    "coordinates": [
                      11.1333,
                      51.1
                    ]
                  }
                },
                {
                  "type": "Feature",
                  "properties": {
                    "Addresses": "Schneeberg im Erzgebirge",
                    "ids": "0",
                    "geonames address": "0",
                    "style": {
                      "color": "black",
                      "fillColor": "red"
                    }
                  },
                  "geometry": {
                    "type": "Point",
                    "coordinates": [
                      0,
                      0
                    ]
                  }
                },
                {
                  "type": "Feature",
                  "properties": {
                    "Addresses": "Sömmerda",
                    "ids": 2831402,
                    "geonames address": "Landkreis Sömmerda",
                    "style": {
                      "color": "black",
                      "fillColor": "green"
                    }
                  },
                  "geometry": {
                    "type": "Point",
                    "coordinates": [
                      11.17722,
                      51.17333
                    ]
                  }
                },
                {
                  "type": "Feature",
                  "properties": {
                    "Addresses": "Sontra",
                    "ids": 6557843,
                    "geonames address": "Sontra",
                    "style": {
                      "color": "black",
                      "fillColor": "red"
                    }
                  },
                  "geometry": {
                    "type": "Point",
                    "coordinates": [
                      9.93333,
                      51.0667
                    ]
                  }
                },
                {
                  "type": "Feature",
                  "properties": {
                    "Addresses": "Speyer",
                    "ids": 3247908,
                    "geonames address": "Kreisfreie Stadt Speyer",
                    "style": {
                      "color": "black",
                      "fillColor": "orange"
                    }
                  },
                  "geometry": {
                    "type": "Point",
                    "coordinates": [
                      8.42861,
                      49.32361
                    ]
                  }
                },
                {
                  "type": "Feature",
                  "properties": {
                    "Addresses": "Stadt Worbis auf dem Eichsfelde",
                    "ids": "0",
                    "geonames address": "0",
                    "style": {
                      "color": "black",
                      "fillColor": "green"
                    }
                  },
                  "geometry": {
                    "type": "Point",
                    "coordinates": [
                      0,
                      0
                    ]
                  }
                },
                {
                  "type": "Feature",
                  "properties": {
                    "Addresses": "Stadtworbis",
                    "ids": "0",
                    "geonames address": "0",
                    "style": {
                      "color": "black",
                      "fillColor": "orange"
                    }
                  },
                  "geometry": {
                    "type": "Point",
                    "coordinates": [
                      0,
                      0
                    ]
                  }
                },
                {
                  "type": "Feature",
                  "properties": {
                    "Addresses": "Stadtworbis auf dem Eichsfelde",
                    "ids": "0",
                    "geonames address": "0",
                    "style": {
                      "color": "black",
                      "fillColor": "orange"
                    }
                  },
                  "geometry": {
                    "type": "Point",
                    "coordinates": [
                      0,
                      0
                    ]
                  }
                },
                {
                  "type": "Feature",
                  "properties": {
                    "Addresses": "Stockholm",
                    "ids": 2673722,
                    "geonames address": "Stockholm",
                    "style": {
                      "color": "black",
                      "fillColor": "green"
                    }
                  },
                  "geometry": {
                    "type": "Point",
                    "coordinates": [
                      18,
                      59.5
                    ]
                  }
                },
                {
                  "type": "Feature",
                  "properties": {
                    "Addresses": "Tambach im Thüringer Walde",
                    "ids": "0",
                    "geonames address": "0",
                    "style": {
                      "color": "black",
                      "fillColor": "red"
                    }
                  },
                  "geometry": {
                    "type": "Point",
                    "coordinates": [
                      0,
                      0
                    ]
                  }
                },
                {
                  "type": "Feature",
                  "properties": {
                    "Addresses": "Tonndorf",
                    "ids": 6550285,
                    "geonames address": "Tonndorf",
                    "style": {
                      "color": "black",
                      "fillColor": "green"
                    }
                  },
                  "geometry": {
                    "type": "Point",
                    "coordinates": [
                      11.20339,
                      50.88917
                    ]
                  }
                },
                {
                  "type": "Feature",
                  "properties": {
                    "Addresses": "Torgau",
                    "ids": 6551134,
                    "geonames address": "Torgau",
                    "style": {
                      "color": "black",
                      "fillColor": "orange"
                    }
                  },
                  "geometry": {
                    "type": "Point",
                    "coordinates": [
                      12.9699,
                      51.5582
                    ]
                  }
                },
                {
                  "type": "Feature",
                  "properties": {
                    "Addresses": "Treffurt",
                    "ids": 6550969,
                    "geonames address": "Treffurt",
                    "style": {
                      "color": "black",
                      "fillColor": "orange"
                    }
                  },
                  "geometry": {
                    "type": "Point",
                    "coordinates": [
                      10.2272,
                      51.1311
                    ]
                  }
                },
                {
                  "type": "Feature",
                  "properties": {
                    "Addresses": "Trier",
                    "ids": 3247911,
                    "geonames address": "Kreisfreie Stadt Trier",
                    "style": {
                      "color": "black",
                      "fillColor": "green"
                    }
                  },
                  "geometry": {
                    "type": "Point",
                    "coordinates": [
                      6.675,
                      49.76917
                    ]
                  }
                },
                {
                  "type": "Feature",
                  "properties": {
                    "Addresses": "Upsala",
                    "ids": 5051153,
                    "geonames address": "City of Upsala",
                    "style": {
                      "color": "black",
                      "fillColor": "red"
                    }
                  },
                  "geometry": {
                    "type": "Point",
                    "coordinates": [
                      -94.56889,
                      45.80806
                    ]
                  }
                },
                {
                  "type": "Feature",
                  "properties": {
                    "Addresses": "Vippach",
                    "ids": "0",
                    "geonames address": "0",
                    "style": {
                      "color": "black",
                      "fillColor": "green"
                    }
                  },
                  "geometry": {
                    "type": "Point",
                    "coordinates": [
                      0,
                      0
                    ]
                  }
                },
                {
                  "type": "Feature",
                  "properties": {
                    "Addresses": "Vippachedelhausen",
                    "ids": 6550289,
                    "geonames address": "Vippachedelhausen",
                    "style": {
                      "color": "black",
                      "fillColor": "green"
                    }
                  },
                  "geometry": {
                    "type": "Point",
                    "coordinates": [
                      11.2,
                      51.0833
                    ]
                  }
                },
                {
                  "type": "Feature",
                  "properties": {
                    "Addresses": "Vlotho",
                    "ids": 6557624,
                    "geonames address": "Vlotho",
                    "style": {
                      "color": "black",
                      "fillColor": "yellow"
                    }
                  },
                  "geometry": {
                    "type": "Point",
                    "coordinates": [
                      8.7806,
                      52.1388
                    ]
                  }
                },
                {
                  "type": "Feature",
                  "properties": {
                    "Addresses": "Wandersleben",
                    "ids": "0",
                    "geonames address": "0",
                    "style": {
                      "color": "black",
                      "fillColor": "orange"
                    }
                  },
                  "geometry": {
                    "type": "Point",
                    "coordinates": [
                      0,
                      0
                    ]
                  }
                },
                {
                  "type": "Feature",
                  "properties": {
                    "Addresses": "Weimar",
                    "ids": 2812479,
                    "geonames address": "Kreisfreie Stadt Weimar",
                    "style": {
                      "color": "black",
                      "fillColor": "yellow"
                    }
                  },
                  "geometry": {
                    "type": "Point",
                    "coordinates": [
                      11.33806,
                      50.97361
                    ]
                  }
                },
                {
                  "type": "Feature",
                  "properties": {
                    "Addresses": "Weißensee",
                    "ids": 2811859,
                    "geonames address": "Weißensee Bezirk",
                    "style": {
                      "color": "black",
                      "fillColor": "orange"
                    }
                  },
                  "geometry": {
                    "type": "Point",
                    "coordinates": [
                      13.45,
                      52.55
                    ]
                  }
                },
                {
                  "type": "Feature",
                  "properties": {
                    "Addresses": "Wendehausen bei Treffurt",
                    "ids": "0",
                    "geonames address": "0",
                    "style": {
                      "color": "black",
                      "fillColor": "orange"
                    }
                  },
                  "geometry": {
                    "type": "Point",
                    "coordinates": [
                      0,
                      0
                    ]
                  }
                },
                {
                  "type": "Feature",
                  "properties": {
                    "Addresses": "Wetzlar",
                    "ids": 6557787,
                    "geonames address": "Wetzlar",
                    "style": {
                      "color": "black",
                      "fillColor": "orange"
                    }
                  },
                  "geometry": {
                    "type": "Point",
                    "coordinates": [
                      8.505,
                      50.54553
                    ]
                  }
                },
                {
                  "type": "Feature",
                  "properties": {
                    "Addresses": "Wien",
                    "ids": 2761367,
                    "geonames address": "Vienna",
                    "style": {
                      "color": "black",
                      "fillColor": "orange"
                    }
                  },
                  "geometry": {
                    "type": "Point",
                    "coordinates": [
                      16.37169,
                      48.2082
                    ]
                  }
                },
                {
                  "type": "Feature",
                  "properties": {
                    "Addresses": "Worbis",
                    "ids": 7602636,
                    "geonames address": "Leinefelde-Worbis",
                    "style": {
                      "color": "black",
                      "fillColor": "green"
                    }
                  },
                  "geometry": {
                    "type": "Point",
                    "coordinates": [
                      10.33333,
                      51.37915
                    ]
                  }
                },
                {
                  "type": "Feature",
                  "properties": {
                    "Addresses": "Worms",
                    "ids": 3247467,
                    "geonames address": "Kreisfreie Stadt Worms",
                    "style": {
                      "color": "black",
                      "fillColor": "green"
                    }
                  },
                  "geometry": {
                    "type": "Point",
                    "coordinates": [
                      8.33583,
                      49.66306
                    ]
                  }
                },
                {
                  "type": "Feature",
                  "properties": {
                    "Addresses": "Würzburg",
                    "ids": 3220897,
                    "geonames address": "Kreisfreie Stadt Würzburg",
                    "style": {
                      "color": "black",
                      "fillColor": "red"
                    }
                  },
                  "geometry": {
                    "type": "Point",
                    "coordinates": [
                      9.94041,
                      49.7822
                    ]
                  }
                },
                {
                  "type": "Feature",
                  "properties": {
                    "Addresses": "Zeitz",
                    "ids": 6550899,
                    "geonames address": "Zeitz",
                    "style": {
                      "color": "black",
                      "fillColor": "orange"
                    }
                  },
                  "geometry": {
                    "type": "Point",
                    "coordinates": [
                      12.1289,
                      51.0597
                    ]
                  }
                }
              ]
            },
            "hover_style": {
              "color": "red",
              "dashArray": "0",
              "fillOpacity": 0.5
            },
            "layers": [],
            "name": "",
            "options": [],
            "pane": "",
            "point_style": {},
            "popup": null,
            "popup_max_height": null,
            "popup_max_width": 300,
            "popup_min_width": 50,
            "style": {
              "opacity": 1,
              "dashArray": "7",
              "fillOpacity": 0.1,
              "weight": 2
            },
            "subitems": [],
            "visible": true
          }
        },
        "f37127d8806748959970d7c6d95e613a": {
          "model_module": "@jupyter-widgets/base",
          "model_name": "LayoutModel",
          "model_module_version": "1.2.0",
          "state": {
            "_model_module": "@jupyter-widgets/base",
            "_model_module_version": "1.2.0",
            "_model_name": "LayoutModel",
            "_view_count": null,
            "_view_module": "@jupyter-widgets/base",
            "_view_module_version": "1.2.0",
            "_view_name": "LayoutView",
            "align_content": null,
            "align_items": null,
            "align_self": null,
            "border": null,
            "bottom": null,
            "display": null,
            "flex": null,
            "flex_flow": null,
            "grid_area": null,
            "grid_auto_columns": null,
            "grid_auto_flow": null,
            "grid_auto_rows": null,
            "grid_column": null,
            "grid_gap": null,
            "grid_row": null,
            "grid_template_areas": null,
            "grid_template_columns": null,
            "grid_template_rows": null,
            "height": null,
            "justify_content": null,
            "justify_items": null,
            "left": null,
            "margin": null,
            "max_height": null,
            "max_width": null,
            "min_height": null,
            "min_width": null,
            "object_fit": null,
            "object_position": null,
            "order": null,
            "overflow": null,
            "overflow_x": null,
            "overflow_y": null,
            "padding": null,
            "right": null,
            "top": null,
            "visibility": null,
            "width": null
          }
        },
        "9c567094047f48528b5973efacc811c7": {
          "model_module": "jupyter-leaflet",
          "model_name": "LeafletMapStyleModel",
          "model_module_version": "^0.17",
          "state": {
            "_model_module": "jupyter-leaflet",
            "_model_module_version": "^0.17",
            "_model_name": "LeafletMapStyleModel",
            "_view_count": null,
            "_view_module": "@jupyter-widgets/base",
            "_view_module_version": "1.2.0",
            "_view_name": "StyleView",
            "cursor": "grab"
          }
        }
      }
    }
  },
  "cells": [
    {
      "cell_type": "markdown",
      "metadata": {
        "id": "view-in-github",
        "colab_type": "text"
      },
      "source": [
        "<a href=\"https://colab.research.google.com/github/MonikaBarget/GeoHumTutorials/blob/master/Colab_Geocoding/GEOJSON_from_EXCEL.ipynb\" target=\"_parent\"><img src=\"https://colab.research.google.com/assets/colab-badge.svg\" alt=\"Open In Colab\"/></a>"
      ]
    },
    {
      "cell_type": "markdown",
      "source": [
        "This is a script for geocoding and plotting spatial information from an EXCEL spreadsheet with an \"Addresses\" column. The API used is **GeoNames.**\n",
        "\n",
        "GeoNames is mainly using REST APIs. It offers 40 different webservices.\n",
        "\n",
        "**Geocoder** for Python supports the following ones:\n",
        "\n",
        "*   (geocoding) retrieve GeoNames’s geocoded data from a query string, and \n",
        "various filters\n",
        "*   (details) retrieve all geonames data for a given geonames_id\n",
        "*   (children) retrieve the hierarchy of a given geonames_id\n",
        "*   (hierarchy) retrieve all children for a given geonames_id\n",
        "\n",
        "Full documentation: https://geocoder.readthedocs.io/providers/GeoNames.html\n",
        "\n",
        "The first step is to get COLAB working:\n"
      ],
      "metadata": {
        "id": "S3ydZRhYATDN"
      }
    },
    {
      "cell_type": "code",
      "source": [
        "## mount drive\n",
        "from google.colab import drive\n",
        "drive.mount(\"/content/drive\")"
      ],
      "metadata": {
        "id": "aiN4EDrIrDz2",
        "colab": {
          "base_uri": "https://localhost:8080/"
        },
        "outputId": "4ab51024-d8a0-486a-ccbd-135bfcbaad01"
      },
      "execution_count": null,
      "outputs": [
        {
          "output_type": "stream",
          "name": "stdout",
          "text": [
            "Mounted at /content/drive\n"
          ]
        }
      ]
    },
    {
      "cell_type": "markdown",
      "source": [
        "A file path needs to be defined for storing input or output files linked with this script:"
      ],
      "metadata": {
        "id": "rIP7cuKSvXZS"
      }
    },
    {
      "cell_type": "code",
      "source": [
        "directory=\"/content/drive/My Drive/Colab_DigiKAR/\""
      ],
      "metadata": {
        "id": "39qqRJOgZmPC"
      },
      "execution_count": null,
      "outputs": []
    },
    {
      "cell_type": "markdown",
      "source": [
        "Now we can install packages that are not part of Python's standard distribution but are necessary for geocoding and plotting maps. There will most likely be a dependency error for NumPy, but the script should still work."
      ],
      "metadata": {
        "id": "ujlAaGvavkCN"
      }
    },
    {
      "cell_type": "code",
      "source": [
        "## install packages that are not part of Python's standard distribution\n",
        "\n",
        "!pip install geocoder\n",
        "!pip install basemap\n",
        "!pip install ipyleaflet\n",
        "!pip install geojson"
      ],
      "metadata": {
        "id": "3d6OjjlTZ2ri",
        "colab": {
          "base_uri": "https://localhost:8080/"
        },
        "outputId": "ef9e5591-ef75-4fe9-d1ae-75cb1cb4f34c"
      },
      "execution_count": null,
      "outputs": [
        {
          "output_type": "stream",
          "name": "stdout",
          "text": [
            "Looking in indexes: https://pypi.org/simple, https://us-python.pkg.dev/colab-wheels/public/simple/\n",
            "Collecting geocoder\n",
            "  Downloading geocoder-1.38.1-py2.py3-none-any.whl (98 kB)\n",
            "\u001b[2K     \u001b[90m━━━━━━━━━━━━━━━━━━━━━━━━━━━━━━━━━━━━━━━━\u001b[0m \u001b[32m98.6/98.6 KB\u001b[0m \u001b[31m5.2 MB/s\u001b[0m eta \u001b[36m0:00:00\u001b[0m\n",
            "\u001b[?25hRequirement already satisfied: six in /usr/local/lib/python3.8/dist-packages (from geocoder) (1.15.0)\n",
            "Requirement already satisfied: future in /usr/local/lib/python3.8/dist-packages (from geocoder) (0.16.0)\n",
            "Requirement already satisfied: click in /usr/local/lib/python3.8/dist-packages (from geocoder) (7.1.2)\n",
            "Collecting ratelim\n",
            "  Downloading ratelim-0.1.6-py2.py3-none-any.whl (4.0 kB)\n",
            "Requirement already satisfied: requests in /usr/local/lib/python3.8/dist-packages (from geocoder) (2.25.1)\n",
            "Requirement already satisfied: decorator in /usr/local/lib/python3.8/dist-packages (from ratelim->geocoder) (4.4.2)\n",
            "Requirement already satisfied: idna<3,>=2.5 in /usr/local/lib/python3.8/dist-packages (from requests->geocoder) (2.10)\n",
            "Requirement already satisfied: certifi>=2017.4.17 in /usr/local/lib/python3.8/dist-packages (from requests->geocoder) (2022.12.7)\n",
            "Requirement already satisfied: chardet<5,>=3.0.2 in /usr/local/lib/python3.8/dist-packages (from requests->geocoder) (4.0.0)\n",
            "Requirement already satisfied: urllib3<1.27,>=1.21.1 in /usr/local/lib/python3.8/dist-packages (from requests->geocoder) (1.24.3)\n",
            "Installing collected packages: ratelim, geocoder\n",
            "Successfully installed geocoder-1.38.1 ratelim-0.1.6\n",
            "Looking in indexes: https://pypi.org/simple, https://us-python.pkg.dev/colab-wheels/public/simple/\n",
            "Collecting basemap\n",
            "  Downloading basemap-1.3.6-cp38-cp38-manylinux1_x86_64.whl (863 kB)\n",
            "\u001b[2K     \u001b[90m━━━━━━━━━━━━━━━━━━━━━━━━━━━━━━━━━━━━━━\u001b[0m \u001b[32m863.9/863.9 KB\u001b[0m \u001b[31m22.2 MB/s\u001b[0m eta \u001b[36m0:00:00\u001b[0m\n",
            "\u001b[?25hRequirement already satisfied: matplotlib<3.7,>=1.5 in /usr/local/lib/python3.8/dist-packages (from basemap) (3.2.2)\n",
            "Collecting numpy<1.24,>=1.22\n",
            "  Downloading numpy-1.23.5-cp38-cp38-manylinux_2_17_x86_64.manylinux2014_x86_64.whl (17.1 MB)\n",
            "\u001b[2K     \u001b[90m━━━━━━━━━━━━━━━━━━━━━━━━━━━━━━━━━━━━━━━━\u001b[0m \u001b[32m17.1/17.1 MB\u001b[0m \u001b[31m61.3 MB/s\u001b[0m eta \u001b[36m0:00:00\u001b[0m\n",
            "\u001b[?25hCollecting basemap-data<1.4,>=1.3.2\n",
            "  Downloading basemap_data-1.3.2-py2.py3-none-any.whl (30.5 MB)\n",
            "\u001b[2K     \u001b[90m━━━━━━━━━━━━━━━━━━━━━━━━━━━━━━━━━━━━━━━━\u001b[0m \u001b[32m30.5/30.5 MB\u001b[0m \u001b[31m33.2 MB/s\u001b[0m eta \u001b[36m0:00:00\u001b[0m\n",
            "\u001b[?25hCollecting pyshp<2.4,>=1.2\n",
            "  Downloading pyshp-2.3.1-py2.py3-none-any.whl (46 kB)\n",
            "\u001b[2K     \u001b[90m━━━━━━━━━━━━━━━━━━━━━━━━━━━━━━━━━━━━━━━━\u001b[0m \u001b[32m46.5/46.5 KB\u001b[0m \u001b[31m5.7 MB/s\u001b[0m eta \u001b[36m0:00:00\u001b[0m\n",
            "\u001b[?25hCollecting pyproj<3.5.0,>=1.9.3\n",
            "  Downloading pyproj-3.4.1-cp38-cp38-manylinux_2_17_x86_64.manylinux2014_x86_64.whl (7.8 MB)\n",
            "\u001b[2K     \u001b[90m━━━━━━━━━━━━━━━━━━━━━━━━━━━━━━━━━━━━━━━━\u001b[0m \u001b[32m7.8/7.8 MB\u001b[0m \u001b[31m66.5 MB/s\u001b[0m eta \u001b[36m0:00:00\u001b[0m\n",
            "\u001b[?25hRequirement already satisfied: python-dateutil>=2.1 in /usr/local/lib/python3.8/dist-packages (from matplotlib<3.7,>=1.5->basemap) (2.8.2)\n",
            "Requirement already satisfied: kiwisolver>=1.0.1 in /usr/local/lib/python3.8/dist-packages (from matplotlib<3.7,>=1.5->basemap) (1.4.4)\n",
            "Requirement already satisfied: cycler>=0.10 in /usr/local/lib/python3.8/dist-packages (from matplotlib<3.7,>=1.5->basemap) (0.11.0)\n",
            "Requirement already satisfied: pyparsing!=2.0.4,!=2.1.2,!=2.1.6,>=2.0.1 in /usr/local/lib/python3.8/dist-packages (from matplotlib<3.7,>=1.5->basemap) (3.0.9)\n",
            "Requirement already satisfied: certifi in /usr/local/lib/python3.8/dist-packages (from pyproj<3.5.0,>=1.9.3->basemap) (2022.12.7)\n",
            "Requirement already satisfied: six>=1.5 in /usr/local/lib/python3.8/dist-packages (from python-dateutil>=2.1->matplotlib<3.7,>=1.5->basemap) (1.15.0)\n",
            "Installing collected packages: pyshp, pyproj, numpy, basemap-data, basemap\n",
            "  Attempting uninstall: numpy\n",
            "    Found existing installation: numpy 1.21.6\n",
            "    Uninstalling numpy-1.21.6:\n",
            "      Successfully uninstalled numpy-1.21.6\n",
            "\u001b[31mERROR: pip's dependency resolver does not currently take into account all the packages that are installed. This behaviour is the source of the following dependency conflicts.\n",
            "scipy 1.7.3 requires numpy<1.23.0,>=1.16.5, but you have numpy 1.23.5 which is incompatible.\u001b[0m\u001b[31m\n",
            "\u001b[0mSuccessfully installed basemap-1.3.6 basemap-data-1.3.2 numpy-1.23.5 pyproj-3.4.1 pyshp-2.3.1\n",
            "Looking in indexes: https://pypi.org/simple, https://us-python.pkg.dev/colab-wheels/public/simple/\n",
            "Collecting ipyleaflet\n",
            "  Downloading ipyleaflet-0.17.2-py3-none-any.whl (3.7 MB)\n",
            "\u001b[2K     \u001b[90m━━━━━━━━━━━━━━━━━━━━━━━━━━━━━━━━━━━━━━━━\u001b[0m \u001b[32m3.7/3.7 MB\u001b[0m \u001b[31m44.8 MB/s\u001b[0m eta \u001b[36m0:00:00\u001b[0m\n",
            "\u001b[?25hRequirement already satisfied: ipywidgets<9,>=7.6.0 in /usr/local/lib/python3.8/dist-packages (from ipyleaflet) (7.7.1)\n",
            "Collecting xyzservices>=2021.8.1\n",
            "  Downloading xyzservices-2022.9.0-py3-none-any.whl (55 kB)\n",
            "\u001b[2K     \u001b[90m━━━━━━━━━━━━━━━━━━━━━━━━━━━━━━━━━━━━━━━━\u001b[0m \u001b[32m55.9/55.9 KB\u001b[0m \u001b[31m6.8 MB/s\u001b[0m eta \u001b[36m0:00:00\u001b[0m\n",
            "\u001b[?25hCollecting traittypes<3,>=0.2.1\n",
            "  Downloading traittypes-0.2.1-py2.py3-none-any.whl (8.6 kB)\n",
            "Requirement already satisfied: branca>=0.5.0 in /usr/local/lib/python3.8/dist-packages (from ipyleaflet) (0.6.0)\n",
            "Requirement already satisfied: jinja2 in /usr/local/lib/python3.8/dist-packages (from branca>=0.5.0->ipyleaflet) (2.11.3)\n",
            "Requirement already satisfied: ipython-genutils~=0.2.0 in /usr/local/lib/python3.8/dist-packages (from ipywidgets<9,>=7.6.0->ipyleaflet) (0.2.0)\n",
            "Requirement already satisfied: jupyterlab-widgets>=1.0.0 in /usr/local/lib/python3.8/dist-packages (from ipywidgets<9,>=7.6.0->ipyleaflet) (3.0.5)\n",
            "Requirement already satisfied: ipykernel>=4.5.1 in /usr/local/lib/python3.8/dist-packages (from ipywidgets<9,>=7.6.0->ipyleaflet) (5.3.4)\n",
            "Requirement already satisfied: widgetsnbextension~=3.6.0 in /usr/local/lib/python3.8/dist-packages (from ipywidgets<9,>=7.6.0->ipyleaflet) (3.6.1)\n",
            "Requirement already satisfied: ipython>=4.0.0 in /usr/local/lib/python3.8/dist-packages (from ipywidgets<9,>=7.6.0->ipyleaflet) (7.9.0)\n",
            "Requirement already satisfied: traitlets>=4.3.1 in /usr/local/lib/python3.8/dist-packages (from ipywidgets<9,>=7.6.0->ipyleaflet) (5.7.1)\n",
            "Requirement already satisfied: jupyter-client in /usr/local/lib/python3.8/dist-packages (from ipykernel>=4.5.1->ipywidgets<9,>=7.6.0->ipyleaflet) (6.1.12)\n",
            "Requirement already satisfied: tornado>=4.2 in /usr/local/lib/python3.8/dist-packages (from ipykernel>=4.5.1->ipywidgets<9,>=7.6.0->ipyleaflet) (6.0.4)\n",
            "Requirement already satisfied: backcall in /usr/local/lib/python3.8/dist-packages (from ipython>=4.0.0->ipywidgets<9,>=7.6.0->ipyleaflet) (0.2.0)\n",
            "Requirement already satisfied: decorator in /usr/local/lib/python3.8/dist-packages (from ipython>=4.0.0->ipywidgets<9,>=7.6.0->ipyleaflet) (4.4.2)\n",
            "Requirement already satisfied: pexpect in /usr/local/lib/python3.8/dist-packages (from ipython>=4.0.0->ipywidgets<9,>=7.6.0->ipyleaflet) (4.8.0)\n",
            "Collecting jedi>=0.10\n",
            "  Downloading jedi-0.18.2-py2.py3-none-any.whl (1.6 MB)\n",
            "\u001b[2K     \u001b[90m━━━━━━━━━━━━━━━━━━━━━━━━━━━━━━━━━━━━━━━━\u001b[0m \u001b[32m1.6/1.6 MB\u001b[0m \u001b[31m5.1 MB/s\u001b[0m eta \u001b[36m0:00:00\u001b[0m\n",
            "\u001b[?25hRequirement already satisfied: setuptools>=18.5 in /usr/local/lib/python3.8/dist-packages (from ipython>=4.0.0->ipywidgets<9,>=7.6.0->ipyleaflet) (57.4.0)\n",
            "Requirement already satisfied: pygments in /usr/local/lib/python3.8/dist-packages (from ipython>=4.0.0->ipywidgets<9,>=7.6.0->ipyleaflet) (2.6.1)\n",
            "Requirement already satisfied: prompt-toolkit<2.1.0,>=2.0.0 in /usr/local/lib/python3.8/dist-packages (from ipython>=4.0.0->ipywidgets<9,>=7.6.0->ipyleaflet) (2.0.10)\n",
            "Requirement already satisfied: pickleshare in /usr/local/lib/python3.8/dist-packages (from ipython>=4.0.0->ipywidgets<9,>=7.6.0->ipyleaflet) (0.7.5)\n",
            "Requirement already satisfied: notebook>=4.4.1 in /usr/local/lib/python3.8/dist-packages (from widgetsnbextension~=3.6.0->ipywidgets<9,>=7.6.0->ipyleaflet) (5.7.16)\n",
            "Requirement already satisfied: MarkupSafe>=0.23 in /usr/local/lib/python3.8/dist-packages (from jinja2->branca>=0.5.0->ipyleaflet) (2.0.1)\n",
            "Requirement already satisfied: parso<0.9.0,>=0.8.0 in /usr/local/lib/python3.8/dist-packages (from jedi>=0.10->ipython>=4.0.0->ipywidgets<9,>=7.6.0->ipyleaflet) (0.8.3)\n",
            "Requirement already satisfied: pyzmq>=17 in /usr/local/lib/python3.8/dist-packages (from notebook>=4.4.1->widgetsnbextension~=3.6.0->ipywidgets<9,>=7.6.0->ipyleaflet) (23.2.1)\n",
            "Requirement already satisfied: terminado>=0.8.1 in /usr/local/lib/python3.8/dist-packages (from notebook>=4.4.1->widgetsnbextension~=3.6.0->ipywidgets<9,>=7.6.0->ipyleaflet) (0.13.3)\n",
            "Requirement already satisfied: prometheus-client in /usr/local/lib/python3.8/dist-packages (from notebook>=4.4.1->widgetsnbextension~=3.6.0->ipywidgets<9,>=7.6.0->ipyleaflet) (0.16.0)\n",
            "Requirement already satisfied: Send2Trash in /usr/local/lib/python3.8/dist-packages (from notebook>=4.4.1->widgetsnbextension~=3.6.0->ipywidgets<9,>=7.6.0->ipyleaflet) (1.8.0)\n",
            "Requirement already satisfied: nbformat in /usr/local/lib/python3.8/dist-packages (from notebook>=4.4.1->widgetsnbextension~=3.6.0->ipywidgets<9,>=7.6.0->ipyleaflet) (5.7.3)\n",
            "Requirement already satisfied: nbconvert<6.0 in /usr/local/lib/python3.8/dist-packages (from notebook>=4.4.1->widgetsnbextension~=3.6.0->ipywidgets<9,>=7.6.0->ipyleaflet) (5.6.1)\n",
            "Requirement already satisfied: jupyter-core>=4.4.0 in /usr/local/lib/python3.8/dist-packages (from notebook>=4.4.1->widgetsnbextension~=3.6.0->ipywidgets<9,>=7.6.0->ipyleaflet) (5.2.0)\n",
            "Requirement already satisfied: python-dateutil>=2.1 in /usr/local/lib/python3.8/dist-packages (from jupyter-client->ipykernel>=4.5.1->ipywidgets<9,>=7.6.0->ipyleaflet) (2.8.2)\n",
            "Requirement already satisfied: six>=1.9.0 in /usr/local/lib/python3.8/dist-packages (from prompt-toolkit<2.1.0,>=2.0.0->ipython>=4.0.0->ipywidgets<9,>=7.6.0->ipyleaflet) (1.15.0)\n",
            "Requirement already satisfied: wcwidth in /usr/local/lib/python3.8/dist-packages (from prompt-toolkit<2.1.0,>=2.0.0->ipython>=4.0.0->ipywidgets<9,>=7.6.0->ipyleaflet) (0.2.6)\n",
            "Requirement already satisfied: ptyprocess>=0.5 in /usr/local/lib/python3.8/dist-packages (from pexpect->ipython>=4.0.0->ipywidgets<9,>=7.6.0->ipyleaflet) (0.7.0)\n",
            "Requirement already satisfied: platformdirs>=2.5 in /usr/local/lib/python3.8/dist-packages (from jupyter-core>=4.4.0->notebook>=4.4.1->widgetsnbextension~=3.6.0->ipywidgets<9,>=7.6.0->ipyleaflet) (3.0.0)\n",
            "Requirement already satisfied: entrypoints>=0.2.2 in /usr/local/lib/python3.8/dist-packages (from nbconvert<6.0->notebook>=4.4.1->widgetsnbextension~=3.6.0->ipywidgets<9,>=7.6.0->ipyleaflet) (0.4)\n",
            "Requirement already satisfied: defusedxml in /usr/local/lib/python3.8/dist-packages (from nbconvert<6.0->notebook>=4.4.1->widgetsnbextension~=3.6.0->ipywidgets<9,>=7.6.0->ipyleaflet) (0.7.1)\n",
            "Requirement already satisfied: pandocfilters>=1.4.1 in /usr/local/lib/python3.8/dist-packages (from nbconvert<6.0->notebook>=4.4.1->widgetsnbextension~=3.6.0->ipywidgets<9,>=7.6.0->ipyleaflet) (1.5.0)\n",
            "Requirement already satisfied: bleach in /usr/local/lib/python3.8/dist-packages (from nbconvert<6.0->notebook>=4.4.1->widgetsnbextension~=3.6.0->ipywidgets<9,>=7.6.0->ipyleaflet) (6.0.0)\n",
            "Requirement already satisfied: mistune<2,>=0.8.1 in /usr/local/lib/python3.8/dist-packages (from nbconvert<6.0->notebook>=4.4.1->widgetsnbextension~=3.6.0->ipywidgets<9,>=7.6.0->ipyleaflet) (0.8.4)\n",
            "Requirement already satisfied: testpath in /usr/local/lib/python3.8/dist-packages (from nbconvert<6.0->notebook>=4.4.1->widgetsnbextension~=3.6.0->ipywidgets<9,>=7.6.0->ipyleaflet) (0.6.0)\n",
            "Requirement already satisfied: jsonschema>=2.6 in /usr/local/lib/python3.8/dist-packages (from nbformat->notebook>=4.4.1->widgetsnbextension~=3.6.0->ipywidgets<9,>=7.6.0->ipyleaflet) (4.3.3)\n",
            "Requirement already satisfied: fastjsonschema in /usr/local/lib/python3.8/dist-packages (from nbformat->notebook>=4.4.1->widgetsnbextension~=3.6.0->ipywidgets<9,>=7.6.0->ipyleaflet) (2.16.2)\n",
            "Requirement already satisfied: importlib-resources>=1.4.0 in /usr/local/lib/python3.8/dist-packages (from jsonschema>=2.6->nbformat->notebook>=4.4.1->widgetsnbextension~=3.6.0->ipywidgets<9,>=7.6.0->ipyleaflet) (5.10.2)\n",
            "Requirement already satisfied: attrs>=17.4.0 in /usr/local/lib/python3.8/dist-packages (from jsonschema>=2.6->nbformat->notebook>=4.4.1->widgetsnbextension~=3.6.0->ipywidgets<9,>=7.6.0->ipyleaflet) (22.2.0)\n",
            "Requirement already satisfied: pyrsistent!=0.17.0,!=0.17.1,!=0.17.2,>=0.14.0 in /usr/local/lib/python3.8/dist-packages (from jsonschema>=2.6->nbformat->notebook>=4.4.1->widgetsnbextension~=3.6.0->ipywidgets<9,>=7.6.0->ipyleaflet) (0.19.3)\n",
            "Requirement already satisfied: webencodings in /usr/local/lib/python3.8/dist-packages (from bleach->nbconvert<6.0->notebook>=4.4.1->widgetsnbextension~=3.6.0->ipywidgets<9,>=7.6.0->ipyleaflet) (0.5.1)\n",
            "Requirement already satisfied: zipp>=3.1.0 in /usr/local/lib/python3.8/dist-packages (from importlib-resources>=1.4.0->jsonschema>=2.6->nbformat->notebook>=4.4.1->widgetsnbextension~=3.6.0->ipywidgets<9,>=7.6.0->ipyleaflet) (3.12.1)\n",
            "Installing collected packages: xyzservices, traittypes, jedi, ipyleaflet\n",
            "Successfully installed ipyleaflet-0.17.2 jedi-0.18.2 traittypes-0.2.1 xyzservices-2022.9.0\n",
            "Looking in indexes: https://pypi.org/simple, https://us-python.pkg.dev/colab-wheels/public/simple/\n",
            "Collecting geojson\n",
            "  Downloading geojson-3.0.0-py3-none-any.whl (15 kB)\n",
            "Installing collected packages: geojson\n",
            "Successfully installed geojson-3.0.0\n"
          ]
        }
      ]
    },
    {
      "cell_type": "markdown",
      "source": [
        "Now that all packages are installed, we can read the input data (in this case from Github or Google Drive) and display the content in a table."
      ],
      "metadata": {
        "id": "2XQp115Wv4MX"
      }
    },
    {
      "cell_type": "markdown",
      "source": [
        "Now we will use the Pandas package to read the content of the address column to a so-called DataFrame. A DataFrame is a data structure that organizes data into a 2-dimensional table of rows and columns, much like a spreadsheet. This 2-dimensional structure is often used to manipulate data with programming languages. Our \"manipulation\" is the act of geocoding."
      ],
      "metadata": {
        "id": "f0i3o8zrJnGG"
      }
    },
    {
      "cell_type": "markdown",
      "source": [
        "If all addresses have been successfully geocoded, the next step is to check the geocoding and write the results to a new EXCEL file. \n"
      ],
      "metadata": {
        "id": "TNFqD_PGXPmn"
      }
    },
    {
      "cell_type": "code",
      "source": [
        "import pandas as pd\n",
        "import geojson\n",
        "import os\n",
        "\n",
        "# read file with geocoded data\n",
        "places = directory+'Geographers/early_modern_geographers_GEO.xlsx' # alternative input from Google Drive'\n",
        "addresses_df = pd.read_excel(places)\n",
        "\n",
        "# convert coordinates to floats\n",
        "\n",
        "addresses_df['latitude'] = addresses_df['latitude'].astype(float)\n",
        "addresses_df['longitude'] = addresses_df['longitude'].astype(float)\n",
        "\n",
        "# ignore places that have not been geocoded\n",
        "\n",
        "df_geo = addresses_df.dropna(subset=['latitude', 'longitude'], axis=0, inplace=False)\n",
        "\n",
        "# combine information in GeoJSON fromat\n",
        "\n",
        "def df_to_geojson(df, properties, lat='latitude', lon='longitude'):\n",
        "    # create a new python dict to contain our geojson data, using geojson format\n",
        "    geojson = {'type':'FeatureCollection', 'features':[]}\n",
        "\n",
        "    # loop through each row in the dataframe and convert each row to geojson format\n",
        "    for _, row in df.iterrows():\n",
        "        # create a feature template to fill in\n",
        "        feature = {'type':'Feature',\n",
        "                   'properties':{},\n",
        "                   'geometry':{'type':'Point',\n",
        "                               'coordinates':[]}}\n",
        "\n",
        "        # fill in the coordinates\n",
        "        feature['geometry']['coordinates'] = [row[lon],row[lat]]\n",
        "\n",
        "        # for each column, get the value and add it as a new feature property\n",
        "        for prop in properties:\n",
        "            feature['properties'][prop] = row[prop]\n",
        "        \n",
        "        # add this feature (aka, converted dataframe row) to the list of features inside our dict\n",
        "        geojson['features'].append(feature)\n",
        "    \n",
        "    return geojson\n",
        "\n",
        "cols = ['Full Address', 'place1Label']\n",
        "geojson = df_to_geojson(df_geo, cols)\n",
        "\n",
        "with open(directory+'early_modern_geographers.geojson', 'w', encoding='utf-8') as f:\n",
        "    json.dump(geojson, f, ensure_ascii=False)"
      ],
      "metadata": {
        "id": "aHzmL7T1k9R-"
      },
      "execution_count": null,
      "outputs": []
    },
    {
      "cell_type": "markdown",
      "source": [
        "Your Google Drive should now contain a file with the \"geojson\" file ending. We can check if this file has been created and if it is well-formed."
      ],
      "metadata": {
        "id": "3jI29JhovOX5"
      }
    },
    {
      "cell_type": "code",
      "source": [
        "## double-check if GeoJSON file has been created and is well-formed\n",
        "\n",
        "# load GeoJSON data\n",
        "\n",
        "with open(directory+'AP3.geojson', 'r') as f2:\n",
        "    data = json.load(f2)\n",
        "    print(data)"
      ],
      "metadata": {
        "colab": {
          "base_uri": "https://localhost:8080/"
        },
        "id": "djFHbGDaqvi_",
        "outputId": "c661ee71-94dc-4742-e6fb-a1da61bc55c7"
      },
      "execution_count": null,
      "outputs": [
        {
          "output_type": "stream",
          "name": "stdout",
          "text": [
            "{'type': 'FeatureCollection', 'features': [{'type': 'Feature', 'properties': {'Addresses': 'Aachen', 'ids': 3247448, 'geonames address': 'Städteregion Aachen'}, 'geometry': {'type': 'Point', 'coordinates': [6.24194, 50.75389]}}, {'type': 'Feature', 'properties': {'Addresses': 'Abderode', 'ids': '0', 'geonames address': '0'}, 'geometry': {'type': 'Point', 'coordinates': [0.0, 0.0]}}, {'type': 'Feature', 'properties': {'Addresses': 'Alach', 'ids': '0', 'geonames address': '0'}, 'geometry': {'type': 'Point', 'coordinates': [0.0, 0.0]}}, {'type': 'Feature', 'properties': {'Addresses': 'Algesheim', 'ids': 6557928, 'geonames address': 'Gau-Algesheim'}, 'geometry': {'type': 'Point', 'coordinates': [8.00946, 49.94992]}}, {'type': 'Feature', 'properties': {'Addresses': 'Altdorf', 'ids': 7285057, 'geonames address': 'Altdorf (UR)'}, 'geometry': {'type': 'Point', 'coordinates': [8.64091, 46.88834]}}, {'type': 'Feature', 'properties': {'Addresses': 'Alzey', 'ids': 2956708, 'geonames address': 'Landkreis Alzey-Worms'}, 'geometry': {'type': 'Point', 'coordinates': [8.15, 49.74944]}}, {'type': 'Feature', 'properties': {'Addresses': 'Amorbach', 'ids': 6558387, 'geonames address': 'Amorbach'}, 'geometry': {'type': 'Point', 'coordinates': [9.2273, 49.6431]}}, {'type': 'Feature', 'properties': {'Addresses': 'Arnstadt', 'ids': 6551002, 'geonames address': 'Arnstadt'}, 'geometry': {'type': 'Point', 'coordinates': [10.96487, 50.8354]}}, {'type': 'Feature', 'properties': {'Addresses': 'Aschaffenburg', 'ids': 3220890, 'geonames address': 'Kreisfreie Stadt Aschaffenburg'}, 'geometry': {'type': 'Point', 'coordinates': [9.14778, 49.96694]}}, {'type': 'Feature', 'properties': {'Addresses': 'Attendorn (Westfalen)', 'ids': 6557687, 'geonames address': 'Attendorn'}, 'geometry': {'type': 'Point', 'coordinates': [7.88067, 51.11123]}}, {'type': 'Feature', 'properties': {'Addresses': 'Auerstedt', 'ids': 6550227, 'geonames address': 'Auerstedt'}, 'geometry': {'type': 'Point', 'coordinates': [11.5833, 51.1]}}, {'type': 'Feature', 'properties': {'Addresses': 'Azmannsdorf', 'ids': '0', 'geonames address': '0'}, 'geometry': {'type': 'Point', 'coordinates': [0.0, 0.0]}}, {'type': 'Feature', 'properties': {'Addresses': 'Bad Lippspringe', 'ids': 6557651, 'geonames address': 'Bad Lippspringe'}, 'geometry': {'type': 'Point', 'coordinates': [8.8047, 51.77427]}}, {'type': 'Feature', 'properties': {'Addresses': 'Bad Mergentheim', 'ids': 6558009, 'geonames address': 'Bad Mergentheim'}, 'geometry': {'type': 'Point', 'coordinates': [9.77266, 49.47631]}}, {'type': 'Feature', 'properties': {'Addresses': 'Bad Wimpfen', 'ids': 6557977, 'geonames address': 'Bad Wimpfen'}, 'geometry': {'type': 'Point', 'coordinates': [9.1613, 49.2293]}}, {'type': 'Feature', 'properties': {'Addresses': 'Basel', 'ids': 2661603, 'geonames address': 'Basel-Landschaft'}, 'geometry': {'type': 'Point', 'coordinates': [7.70444, 47.50438]}}, {'type': 'Feature', 'properties': {'Addresses': 'Beilstein (Landkreis Cochem-Zell)', 'ids': 6553659, 'geonames address': 'Beilstein'}, 'geometry': {'type': 'Point', 'coordinates': [7.24088, 50.09978]}}, {'type': 'Feature', 'properties': {'Addresses': 'Bennweiler (Bennwihr)', 'ids': '0', 'geonames address': '0'}, 'geometry': {'type': 'Point', 'coordinates': [0.0, 0.0]}}, {'type': 'Feature', 'properties': {'Addresses': 'Bensheim', 'ids': 6557710, 'geonames address': 'Bensheim'}, 'geometry': {'type': 'Point', 'coordinates': [8.62837, 49.68667]}}, {'type': 'Feature', 'properties': {'Addresses': 'Beringhausen in Westfalen', 'ids': '0', 'geonames address': '0'}, 'geometry': {'type': 'Point', 'coordinates': [0.0, 0.0]}}, {'type': 'Feature', 'properties': {'Addresses': 'Berlin', 'ids': 2950157, 'geonames address': 'Land Berlin'}, 'geometry': {'type': 'Point', 'coordinates': [13.41667, 52.5]}}, {'type': 'Feature', 'properties': {'Addresses': 'Blankenhain', 'ids': 6551012, 'geonames address': 'Blankenhain'}, 'geometry': {'type': 'Point', 'coordinates': [11.35, 50.85]}}, {'type': 'Feature', 'properties': {'Addresses': 'Bochum', 'ids': 3221109, 'geonames address': 'Kreisfreie Stadt Bochum'}, 'geometry': {'type': 'Point', 'coordinates': [7.22806, 51.47389]}}, {'type': 'Feature', 'properties': {'Addresses': 'Bonau bei Teuchern', 'ids': '0', 'geonames address': '0'}, 'geometry': {'type': 'Point', 'coordinates': [0.0, 0.0]}}, {'type': 'Feature', 'properties': {'Addresses': 'Bonn', 'ids': 3247450, 'geonames address': 'Kreisfreie Stadt Bonn'}, 'geometry': {'type': 'Point', 'coordinates': [7.11139, 50.71583]}}, {'type': 'Feature', 'properties': {'Addresses': 'Breslau ( Wrocław)', 'ids': 7531292, 'geonames address': 'Wrocław'}, 'geometry': {'type': 'Point', 'coordinates': [17.03533, 51.10773]}}, {'type': 'Feature', 'properties': {'Addresses': 'Buchtorp', 'ids': '0', 'geonames address': '0'}, 'geometry': {'type': 'Point', 'coordinates': [0.0, 0.0]}}, {'type': 'Feature', 'properties': {'Addresses': 'Bürstadt', 'ids': 6557711, 'geonames address': 'Bürstadt'}, 'geometry': {'type': 'Point', 'coordinates': [8.4509, 49.6406]}}, {'type': 'Feature', 'properties': {'Addresses': 'Buttstädt', 'ids': 6550990, 'geonames address': 'Buttstädt'}, 'geometry': {'type': 'Point', 'coordinates': [11.4167, 51.1167]}}, {'type': 'Feature', 'properties': {'Addresses': 'Dänemark', 'ids': 2623032, 'geonames address': 'Denmark'}, 'geometry': {'type': 'Point', 'coordinates': [10.0, 56.0]}}, {'type': 'Feature', 'properties': {'Addresses': 'Darmstadt', 'ids': 2938912, 'geonames address': 'Regierungsbezirk Darmstadt'}, 'geometry': {'type': 'Point', 'coordinates': [8.75, 50.0]}}, {'type': 'Feature', 'properties': {'Addresses': 'Dieburg (Hessen)', 'ids': 3220966, 'geonames address': 'Landkreis Darmstadt-Dieburg'}, 'geometry': {'type': 'Point', 'coordinates': [8.75667, 49.85639]}}, {'type': 'Feature', 'properties': {'Addresses': 'Dresden', 'ids': 3305799, 'geonames address': 'Dresden'}, 'geometry': {'type': 'Point', 'coordinates': [14.08333, 51.16667]}}, {'type': 'Feature', 'properties': {'Addresses': 'Duderstadt', 'ids': 6557372, 'geonames address': 'Duderstadt'}, 'geometry': {'type': 'Point', 'coordinates': [10.2385, 51.5158]}}, {'type': 'Feature', 'properties': {'Addresses': 'Düsseldorf', 'ids': 2934245, 'geonames address': 'Düsseldorf District'}, 'geometry': {'type': 'Point', 'coordinates': [6.6, 51.4]}}, {'type': 'Feature', 'properties': {'Addresses': 'Ehingen', 'ids': 6557131, 'geonames address': 'Ehingen'}, 'geometry': {'type': 'Point', 'coordinates': [10.8, 48.6]}}, {'type': 'Feature', 'properties': {'Addresses': 'Eichsfeld', 'ids': 6547387, 'geonames address': 'Eichsfeld'}, 'geometry': {'type': 'Point', 'coordinates': [10.21548, 51.37454]}}, {'type': 'Feature', 'properties': {'Addresses': 'Eisenach', 'ids': 6547386, 'geonames address': 'Eisenach'}, 'geometry': {'type': 'Point', 'coordinates': [10.33407, 50.97443]}}, {'type': 'Feature', 'properties': {'Addresses': 'Elleben', 'ids': 6550198, 'geonames address': 'Elleben'}, 'geometry': {'type': 'Point', 'coordinates': [11.0833, 50.8667]}}, {'type': 'Feature', 'properties': {'Addresses': 'Eltville am Rhein', 'ids': 6557759, 'geonames address': 'Eltville am Rhein'}, 'geometry': {'type': 'Point', 'coordinates': [8.11667, 50.0333]}}, {'type': 'Feature', 'properties': {'Addresses': 'Elvershausen', 'ids': '0', 'geonames address': '0'}, 'geometry': {'type': 'Point', 'coordinates': [0.0, 0.0]}}, {'type': 'Feature', 'properties': {'Addresses': 'Erfuft', 'ids': '0', 'geonames address': '0'}, 'geometry': {'type': 'Point', 'coordinates': [0.0, 0.0]}}, {'type': 'Feature', 'properties': {'Addresses': 'Erfurt', 'ids': 2929668, 'geonames address': 'Kreisfreie Stadt Erfurt'}, 'geometry': {'type': 'Point', 'coordinates': [11.0425, 50.98278]}}, {'type': 'Feature', 'properties': {'Addresses': 'Essen', 'ids': 6553024, 'geonames address': 'Essen'}, 'geometry': {'type': 'Point', 'coordinates': [7.0102, 51.45355]}}, {'type': 'Feature', 'properties': {'Addresses': 'Esslingen am Neckar', 'ids': 6557941, 'geonames address': 'Esslingen am Neckar'}, 'geometry': {'type': 'Point', 'coordinates': [9.30609, 48.73936]}}, {'type': 'Feature', 'properties': {'Addresses': 'Europa', 'ids': 933910, 'geonames address': 'Europa Island'}, 'geometry': {'type': 'Point', 'coordinates': [40.36667, -22.33333]}}, {'type': 'Feature', 'properties': {'Addresses': 'Frankfurt am Main', 'ids': 3220968, 'geonames address': 'Frankfurt am Main'}, 'geometry': {'type': 'Point', 'coordinates': [8.66361, 50.13083]}}, {'type': 'Feature', 'properties': {'Addresses': 'Frankfurt an der Oder', 'ids': '0', 'geonames address': '0'}, 'geometry': {'type': 'Point', 'coordinates': [0.0, 0.0]}}, {'type': 'Feature', 'properties': {'Addresses': 'Frankreich', 'ids': 3017382, 'geonames address': 'France'}, 'geometry': {'type': 'Point', 'coordinates': [2.0, 46.0]}}, {'type': 'Feature', 'properties': {'Addresses': 'Freiburg im Breisgau', 'ids': 3214107, 'geonames address': 'Freiburg im Breisgau'}, 'geometry': {'type': 'Point', 'coordinates': [7.8325, 48.00806]}}, {'type': 'Feature', 'properties': {'Addresses': 'Friedberg', 'ids': 2803463, 'geonames address': 'Landkreis Aichach-Friedberg'}, 'geometry': {'type': 'Point', 'coordinates': [11.05472, 48.41722]}}, {'type': 'Feature', 'properties': {'Addresses': 'Fulda', 'ids': 3220993, 'geonames address': 'Landkreis Fulda'}, 'geometry': {'type': 'Point', 'coordinates': [9.76111, 50.58278]}}, {'type': 'Feature', 'properties': {'Addresses': 'Gau-Algesheim', 'ids': 6557928, 'geonames address': 'Gau-Algesheim'}, 'geometry': {'type': 'Point', 'coordinates': [8.00946, 49.94992]}}, {'type': 'Feature', 'properties': {'Addresses': 'Gehren', 'ids': 6551003, 'geonames address': 'Gehren'}, 'geometry': {'type': 'Point', 'coordinates': [11.0023, 50.6384]}}, {'type': 'Feature', 'properties': {'Addresses': 'Geisenheim', 'ids': 6557760, 'geonames address': 'Geisenheim'}, 'geometry': {'type': 'Point', 'coordinates': [7.9793, 50.0056]}}, {'type': 'Feature', 'properties': {'Addresses': 'Georgenthal', 'ids': 12166099, 'geonames address': 'Georgenthal'}, 'geometry': {'type': 'Point', 'coordinates': [10.66072, 50.83011]}}, {'type': 'Feature', 'properties': {'Addresses': 'Gerolzhofen', 'ids': 6558395, 'geonames address': 'Gerolzhofen'}, 'geometry': {'type': 'Point', 'coordinates': [10.346, 49.9016]}}, {'type': 'Feature', 'properties': {'Addresses': 'Gieboldehausen', 'ids': 6558860, 'geonames address': 'Gieboldehausen, Flecken'}, 'geometry': {'type': 'Point', 'coordinates': [10.2167, 51.6167]}}, {'type': 'Feature', 'properties': {'Addresses': 'Gmünd (Niederösterreich)', 'ids': 2778438, 'geonames address': 'Politischer Bezirk Gmünd'}, 'geometry': {'type': 'Point', 'coordinates': [14.98166, 48.74732]}}, {'type': 'Feature', 'properties': {'Addresses': 'Goch', 'ids': 7297133, 'geonames address': 'Betws Gwerfil Goch'}, 'geometry': {'type': 'Point', 'coordinates': [-3.44626, 53.02323]}}, {'type': 'Feature', 'properties': {'Addresses': 'Gotha', 'ids': 2918750, 'geonames address': 'Landkreis Gotha'}, 'geometry': {'type': 'Point', 'coordinates': [10.71194, 50.91056]}}, {'type': 'Feature', 'properties': {'Addresses': 'Göttingen', 'ids': 3221013, 'geonames address': 'Landkreis Göttingen'}, 'geometry': {'type': 'Point', 'coordinates': [9.91361, 51.51083]}}, {'type': 'Feature', 'properties': {'Addresses': 'Graz', 'ids': 2778057, 'geonames address': 'Politischer Bezirk Graz-Umgebung'}, 'geometry': {'type': 'Point', 'coordinates': [15.38823, 47.1386]}}, {'type': 'Feature', 'properties': {'Addresses': 'Großbartloff', 'ids': 6549778, 'geonames address': 'Großbartloff'}, 'geometry': {'type': 'Point', 'coordinates': [10.2167, 51.25]}}, {'type': 'Feature', 'properties': {'Addresses': 'Großmölsen bei Erfurt', 'ids': '0', 'geonames address': '0'}, 'geometry': {'type': 'Point', 'coordinates': [0.0, 0.0]}}, {'type': 'Feature', 'properties': {'Addresses': 'Großostheim', 'ids': 6558681, 'geonames address': 'Großostheim, Markt'}, 'geometry': {'type': 'Point', 'coordinates': [9.0859, 49.9303]}}, {'type': 'Feature', 'properties': {'Addresses': 'Großvargula', 'ids': 6549917, 'geonames address': 'Großvargula'}, 'geometry': {'type': 'Point', 'coordinates': [10.7833, 51.1167]}}, {'type': 'Feature', 'properties': {'Addresses': 'Gut Geschwende', 'ids': '0', 'geonames address': '0'}, 'geometry': {'type': 'Point', 'coordinates': [0.0, 0.0]}}, {'type': 'Feature', 'properties': {'Addresses': 'Hadamar', 'ids': 6557789, 'geonames address': 'Hadamar'}, 'geometry': {'type': 'Point', 'coordinates': [8.05, 50.45]}}, {'type': 'Feature', 'properties': {'Addresses': 'Hamburg', 'ids': 2911297, 'geonames address': 'Hamburg'}, 'geometry': {'type': 'Point', 'coordinates': [10.0, 53.58333]}}, {'type': 'Feature', 'properties': {'Addresses': 'Hameln', 'ids': 3221027, 'geonames address': 'Landkreis Hameln-Pyrmont'}, 'geometry': {'type': 'Point', 'coordinates': [9.40111, 52.11111]}}, {'type': 'Feature', 'properties': {'Addresses': 'Hamm', 'ids': 8736809, 'geonames address': 'Āl Ḩamm'}, 'geometry': {'type': 'Point', 'coordinates': [45.19538, 14.93671]}}, {'type': 'Feature', 'properties': {'Addresses': 'Hammelburg', 'ids': 6558373, 'geonames address': 'Hammelburg'}, 'geometry': {'type': 'Point', 'coordinates': [9.8904, 50.1148]}}, {'type': 'Feature', 'properties': {'Addresses': 'Hannover', 'ids': 3221033, 'geonames address': 'Region Hannover'}, 'geometry': {'type': 'Point', 'coordinates': [9.74, 52.44889]}}, {'type': 'Feature', 'properties': {'Addresses': 'Harburg', 'ids': 6559045, 'geonames address': 'Harburg (Schwaben)'}, 'geometry': {'type': 'Point', 'coordinates': [10.69269, 48.7857]}}, {'type': 'Feature', 'properties': {'Addresses': 'Heidelberg', 'ids': 3220720, 'geonames address': 'Stadtkreis Heidelberg'}, 'geometry': {'type': 'Point', 'coordinates': [8.69556, 49.41056]}}, {'type': 'Feature', 'properties': {'Addresses': 'Heiligenstadt', 'ids': 6550959, 'geonames address': 'Heilbad Heiligenstadt'}, 'geometry': {'type': 'Point', 'coordinates': [10.1495, 51.37395]}}, {'type': 'Feature', 'properties': {'Addresses': 'Heiligenstadt auf dem Eichsfelde', 'ids': '0', 'geonames address': '0'}, 'geometry': {'type': 'Point', 'coordinates': [0.0, 0.0]}}, {'type': 'Feature', 'properties': {'Addresses': 'Heiligenstadt Eichsfeld ( Heilbad Heiligenstadt)', 'ids': 6550959, 'geonames address': 'Heilbad Heiligenstadt'}, 'geometry': {'type': 'Point', 'coordinates': [10.1495, 51.37395]}}, {'type': 'Feature', 'properties': {'Addresses': 'Herdringen', 'ids': '0', 'geonames address': '0'}, 'geometry': {'type': 'Point', 'coordinates': [0.0, 0.0]}}, {'type': 'Feature', 'properties': {'Addresses': 'Herzogenbusch (’s-Hertogenbosch)', 'ids': '0', 'geonames address': '0'}, 'geometry': {'type': 'Point', 'coordinates': [0.0, 0.0]}}, {'type': 'Feature', 'properties': {'Addresses': 'Hessen', 'ids': 2905330, 'geonames address': 'Hesse'}, 'geometry': {'type': 'Point', 'coordinates': [9.0, 50.55]}}, {'type': 'Feature', 'properties': {'Addresses': 'Hildesheim', 'ids': 2803461, 'geonames address': 'Landkreis Hildesheim'}, 'geometry': {'type': 'Point', 'coordinates': [9.965, 52.12667]}}, {'type': 'Feature', 'properties': {'Addresses': 'Hoch-Weisel (Butzbach)', 'ids': '0', 'geonames address': '0'}, 'geometry': {'type': 'Point', 'coordinates': [0.0, 0.0]}}, {'type': 'Feature', 'properties': {'Addresses': 'Hofheim (Unterfranken)', 'ids': 6559007, 'geonames address': 'Hofheim i.UFr.'}, 'geometry': {'type': 'Point', 'coordinates': [10.52295, 50.1349]}}, {'type': 'Feature', 'properties': {'Addresses': 'Holzweiler (Erkelenz)', 'ids': '0', 'geonames address': '0'}, 'geometry': {'type': 'Point', 'coordinates': [0.0, 0.0]}}, {'type': 'Feature', 'properties': {'Addresses': 'Horsens (Dänemark)', 'ids': 2619767, 'geonames address': 'Horsens Kommune'}, 'geometry': {'type': 'Point', 'coordinates': [9.77377, 55.9274]}}, {'type': 'Feature', 'properties': {'Addresses': 'Ichtershausen', 'ids': 6550210, 'geonames address': 'Amt Wachsenburg'}, 'geometry': {'type': 'Point', 'coordinates': [10.91537, 50.86587]}}, {'type': 'Feature', 'properties': {'Addresses': 'Idstein', 'ids': 6557761, 'geonames address': 'Idstein'}, 'geometry': {'type': 'Point', 'coordinates': [8.25373, 50.22347]}}, {'type': 'Feature', 'properties': {'Addresses': 'Ingolstadt', 'ids': 3220833, 'geonames address': 'Kreisfreie Stadt Ingolstadt'}, 'geometry': {'type': 'Point', 'coordinates': [11.40889, 48.76028]}}, {'type': 'Feature', 'properties': {'Addresses': 'Jena', 'ids': 2895042, 'geonames address': 'Kreisfreie Stadt Jena'}, 'geometry': {'type': 'Point', 'coordinates': [11.59056, 50.93194]}}, {'type': 'Feature', 'properties': {'Addresses': 'Johannisberg (Rheingau)', 'ids': '0', 'geonames address': '0'}, 'geometry': {'type': 'Point', 'coordinates': [0.0, 0.0]}}, {'type': 'Feature', 'properties': {'Addresses': 'Kaiserswerth (Düsseldorf)', 'ids': '0', 'geonames address': '0'}, 'geometry': {'type': 'Point', 'coordinates': [0.0, 0.0]}}, {'type': 'Feature', 'properties': {'Addresses': 'Kassel', 'ids': 2892513, 'geonames address': 'Regierungsbezirk Kassel'}, 'geometry': {'type': 'Point', 'coordinates': [9.4, 51.08333]}}, {'type': 'Feature', 'properties': {'Addresses': 'Kirchworbis', 'ids': 6549793, 'geonames address': 'Kirchworbis'}, 'geometry': {'type': 'Point', 'coordinates': [10.39407, 51.40661]}}, {'type': 'Feature', 'properties': {'Addresses': 'Kirchworbis auf dem Eichsfelde', 'ids': '0', 'geonames address': '0'}, 'geometry': {'type': 'Point', 'coordinates': [0.0, 0.0]}}, {'type': 'Feature', 'properties': {'Addresses': 'Kitzingen', 'ids': 3220892, 'geonames address': 'Landkreis Kitzingen'}, 'geometry': {'type': 'Point', 'coordinates': [10.28111, 49.76972]}}, {'type': 'Feature', 'properties': {'Addresses': 'Koblenz', 'ids': 7286213, 'geonames address': 'Koblenz'}, 'geometry': {'type': 'Point', 'coordinates': [8.24474, 47.60439]}}, {'type': 'Feature', 'properties': {'Addresses': 'Köln', 'ids': 2886241, 'geonames address': 'Cologne District'}, 'geometry': {'type': 'Point', 'coordinates': [6.8666, 50.78333]}}, {'type': 'Feature', 'properties': {'Addresses': 'Konstanz', 'ids': 2885678, 'geonames address': 'Landkreis Konstanz'}, 'geometry': {'type': 'Point', 'coordinates': [8.87694, 47.80694]}}, {'type': 'Feature', 'properties': {'Addresses': 'Langensalza', 'ids': 6550971, 'geonames address': 'Bad Langensalza'}, 'geometry': {'type': 'Point', 'coordinates': [10.6542, 51.1111]}}, {'type': 'Feature', 'properties': {'Addresses': 'Leinefelde (Eichsfeld)', 'ids': 7602636, 'geonames address': 'Leinefelde-Worbis'}, 'geometry': {'type': 'Point', 'coordinates': [10.33333, 51.37915]}}, {'type': 'Feature', 'properties': {'Addresses': 'Leipzig', 'ids': 3305800, 'geonames address': 'Direktionsbezirk Leipzig'}, 'geometry': {'type': 'Point', 'coordinates': [12.75, 51.25]}}, {'type': 'Feature', 'properties': {'Addresses': 'Lohr am Main', 'ids': 6559021, 'geonames address': 'Lohr a.Main'}, 'geometry': {'type': 'Point', 'coordinates': [9.5735, 49.9955]}}, {'type': 'Feature', 'properties': {'Addresses': 'London', 'ids': 4839420, 'geonames address': 'New London'}, 'geometry': {'type': 'Point', 'coordinates': [-72.1065, 41.46678]}}, {'type': 'Feature', 'properties': {'Addresses': 'Lorch', 'ids': 6557762, 'geonames address': 'Lorch'}, 'geometry': {'type': 'Point', 'coordinates': [7.81667, 50.05]}}, {'type': 'Feature', 'properties': {'Addresses': 'Lyon', 'ids': 4274916, 'geonames address': 'Lyon'}, 'geometry': {'type': 'Point', 'coordinates': [-96.15264, 38.45619]}}, {'type': 'Feature', 'properties': {'Addresses': 'Mainz', 'ids': 3247465, 'geonames address': 'Kreisfreie Stadt Mainz'}, 'geometry': {'type': 'Point', 'coordinates': [8.25361, 49.99167]}}, {'type': 'Feature', 'properties': {'Addresses': 'Mainz-Hechtsheim', 'ids': '0', 'geonames address': '0'}, 'geometry': {'type': 'Point', 'coordinates': [0.0, 0.0]}}, {'type': 'Feature', 'properties': {'Addresses': 'Mannheim', 'ids': 3220722, 'geonames address': 'Stadtkreis Mannheim'}, 'geometry': {'type': 'Point', 'coordinates': [8.5, 49.49639]}}, {'type': 'Feature', 'properties': {'Addresses': 'Marburg', 'ids': 3195505, 'geonames address': 'Maribor'}, 'geometry': {'type': 'Point', 'coordinates': [15.64306, 46.55611]}}, {'type': 'Feature', 'properties': {'Addresses': 'Mayen', 'ids': 3041964, 'geonames address': 'Jan Mayen'}, 'geometry': {'type': 'Point', 'coordinates': [-8.5, 70.98333]}}, {'type': 'Feature', 'properties': {'Addresses': 'Meiningen (Thüringen)', 'ids': 3302169, 'geonames address': 'Landkreis Schmalkalden-Meiningen'}, 'geometry': {'type': 'Point', 'coordinates': [10.41528, 50.62083]}}, {'type': 'Feature', 'properties': {'Addresses': 'Meiringen (Schweiz)', 'ids': 7286475, 'geonames address': 'Meiringen'}, 'geometry': {'type': 'Point', 'coordinates': [8.18923, 46.72597]}}, {'type': 'Feature', 'properties': {'Addresses': 'Meisenbach am Main', 'ids': '0', 'geonames address': '0'}, 'geometry': {'type': 'Point', 'coordinates': [0.0, 0.0]}}, {'type': 'Feature', 'properties': {'Addresses': 'Melsungen', 'ids': 6557825, 'geonames address': 'Melsungen'}, 'geometry': {'type': 'Point', 'coordinates': [9.54103, 51.1277]}}, {'type': 'Feature', 'properties': {'Addresses': 'Meschede', 'ids': 6557672, 'geonames address': 'Meschede'}, 'geometry': {'type': 'Point', 'coordinates': [8.3015, 51.32335]}}, {'type': 'Feature', 'properties': {'Addresses': 'Mittweida', 'ids': 6551121, 'geonames address': 'Mittweida'}, 'geometry': {'type': 'Point', 'coordinates': [12.98103, 50.982]}}, {'type': 'Feature', 'properties': {'Addresses': 'Mittweide', 'ids': '0', 'geonames address': '0'}, 'geometry': {'type': 'Point', 'coordinates': [0.0, 0.0]}}, {'type': 'Feature', 'properties': {'Addresses': 'Montabaur', 'ids': 6557891, 'geonames address': 'Montabaur'}, 'geometry': {'type': 'Point', 'coordinates': [7.81987, 50.43558]}}, {'type': 'Feature', 'properties': {'Addresses': 'Mühlberg', 'ids': 6550602, 'geonames address': 'Mühlberg/Elbe'}, 'geometry': {'type': 'Point', 'coordinates': [13.2167, 51.4333]}}, {'type': 'Feature', 'properties': {'Addresses': 'Mühlhausen', 'ids': 6550973, 'geonames address': 'Mühlhausen/Thüringen'}, 'geometry': {'type': 'Point', 'coordinates': [10.453, 51.2217]}}, {'type': 'Feature', 'properties': {'Addresses': 'München', 'ids': 3220838, 'geonames address': 'Munich'}, 'geometry': {'type': 'Point', 'coordinates': [11.64222, 48.05139]}}, {'type': 'Feature', 'properties': {'Addresses': 'Münstermaifeld', 'ids': 6557872, 'geonames address': 'Münstermaifeld'}, 'geometry': {'type': 'Point', 'coordinates': [7.36667, 50.25]}}, {'type': 'Feature', 'properties': {'Addresses': 'Münzenberg', 'ids': 6557772, 'geonames address': 'Münzenberg'}, 'geometry': {'type': 'Point', 'coordinates': [8.7293, 50.4563]}}, {'type': 'Feature', 'properties': {'Addresses': 'Naumburg', 'ids': 6557818, 'geonames address': 'Naumburg'}, 'geometry': {'type': 'Point', 'coordinates': [9.16667, 51.25]}}, {'type': 'Feature', 'properties': {'Addresses': 'Naumburg (Saale)', 'ids': 6551223, 'geonames address': 'Naumburg (Saale)'}, 'geometry': {'type': 'Point', 'coordinates': [11.82975, 51.14125]}}, {'type': 'Feature', 'properties': {'Addresses': 'Neubamberg', 'ids': '0', 'geonames address': '0'}, 'geometry': {'type': 'Point', 'coordinates': [0.0, 0.0]}}, {'type': 'Feature', 'properties': {'Addresses': 'Neuhausen (auf den Fildern)', 'ids': 6555428, 'geonames address': 'Neuhausen auf den Fildern'}, 'geometry': {'type': 'Point', 'coordinates': [9.28333, 48.6833]}}, {'type': 'Feature', 'properties': {'Addresses': 'Neuss', 'ids': 3247434, 'geonames address': 'Rhein-Kreis Neuss'}, 'geometry': {'type': 'Point', 'coordinates': [6.65389, 51.16528]}}, {'type': 'Feature', 'properties': {'Addresses': 'Neuworbis', 'ids': '0', 'geonames address': '0'}, 'geometry': {'type': 'Point', 'coordinates': [0.0, 0.0]}}, {'type': 'Feature', 'properties': {'Addresses': 'Niederlande', 'ids': 2750405, 'geonames address': 'Netherlands'}, 'geometry': {'type': 'Point', 'coordinates': [5.75, 52.25]}}, {'type': 'Feature', 'properties': {'Addresses': 'Niedernhausen', 'ids': 6553201, 'geonames address': 'Niedernhausen'}, 'geometry': {'type': 'Point', 'coordinates': [8.29675, 50.16938]}}, {'type': 'Feature', 'properties': {'Addresses': 'Nürnberg', 'ids': 3220803, 'geonames address': 'Nuremberg'}, 'geometry': {'type': 'Point', 'coordinates': [11.08528, 49.43083]}}, {'type': 'Feature', 'properties': {'Addresses': 'Ohrdruf', 'ids': 6550988, 'geonames address': 'Ohrdruf'}, 'geometry': {'type': 'Point', 'coordinates': [10.7333, 50.8167]}}, {'type': 'Feature', 'properties': {'Addresses': 'Oldendorf an der Weser', 'ids': '0', 'geonames address': '0'}, 'geometry': {'type': 'Point', 'coordinates': [0.0, 0.0]}}, {'type': 'Feature', 'properties': {'Addresses': 'Olm', 'ids': 6616447, 'geonames address': \"Saint-Étienne-de-l'Olm\"}, 'geometry': {'type': 'Point', 'coordinates': [4.1849, 44.0586]}}, {'type': 'Feature', 'properties': {'Addresses': 'Orb', 'ids': 6432538, 'geonames address': 'Lignan-sur-Orb'}, 'geometry': {'type': 'Point', 'coordinates': [3.17028, 43.38389]}}, {'type': 'Feature', 'properties': {'Addresses': 'Paris', 'ids': 2968815, 'geonames address': 'Paris'}, 'geometry': {'type': 'Point', 'coordinates': [2.3486, 48.8534]}}, {'type': 'Feature', 'properties': {'Addresses': 'Polen', 'ids': 798544, 'geonames address': 'Poland'}, 'geometry': {'type': 'Point', 'coordinates': [20.0, 52.0]}}, {'type': 'Feature', 'properties': {'Addresses': 'Posen', 'ids': 5042176, 'geonames address': 'Posen Township'}, 'geometry': {'type': 'Point', 'coordinates': [-95.54356, 44.5858]}}, {'type': 'Feature', 'properties': {'Addresses': 'Prag', 'ids': 1153080, 'geonames address': 'Kanchanaburi'}, 'geometry': {'type': 'Point', 'coordinates': [99.1, 14.63333]}}, {'type': 'Feature', 'properties': {'Addresses': 'Regensburg', 'ids': 3220857, 'geonames address': 'Regensburg'}, 'geometry': {'type': 'Point', 'coordinates': [12.1119, 49.01315]}}, {'type': 'Feature', 'properties': {'Addresses': 'Reiffenstein', 'ids': '0', 'geonames address': '0'}, 'geometry': {'type': 'Point', 'coordinates': [0.0, 0.0]}}, {'type': 'Feature', 'properties': {'Addresses': 'Saarburg', 'ids': 2821160, 'geonames address': 'Landkreis Trier-Saarburg'}, 'geometry': {'type': 'Point', 'coordinates': [6.71972, 49.70722]}}, {'type': 'Feature', 'properties': {'Addresses': 'Schleiz', 'ids': 6551035, 'geonames address': 'Schleiz'}, 'geometry': {'type': 'Point', 'coordinates': [11.82089, 50.5603]}}, {'type': 'Feature', 'properties': {'Addresses': 'Schlossvippach', 'ids': 6550153, 'geonames address': 'Schloßvippach'}, 'geometry': {'type': 'Point', 'coordinates': [11.1333, 51.1]}}, {'type': 'Feature', 'properties': {'Addresses': 'Schneeberg im Erzgebirge', 'ids': '0', 'geonames address': '0'}, 'geometry': {'type': 'Point', 'coordinates': [0.0, 0.0]}}, {'type': 'Feature', 'properties': {'Addresses': 'Sömmerda', 'ids': 2831402, 'geonames address': 'Landkreis Sömmerda'}, 'geometry': {'type': 'Point', 'coordinates': [11.17722, 51.17333]}}, {'type': 'Feature', 'properties': {'Addresses': 'Sontra', 'ids': 6557843, 'geonames address': 'Sontra'}, 'geometry': {'type': 'Point', 'coordinates': [9.93333, 51.0667]}}, {'type': 'Feature', 'properties': {'Addresses': 'Speyer', 'ids': 3247908, 'geonames address': 'Kreisfreie Stadt Speyer'}, 'geometry': {'type': 'Point', 'coordinates': [8.42861, 49.32361]}}, {'type': 'Feature', 'properties': {'Addresses': 'Stadt Worbis auf dem Eichsfelde', 'ids': '0', 'geonames address': '0'}, 'geometry': {'type': 'Point', 'coordinates': [0.0, 0.0]}}, {'type': 'Feature', 'properties': {'Addresses': 'Stadtworbis', 'ids': '0', 'geonames address': '0'}, 'geometry': {'type': 'Point', 'coordinates': [0.0, 0.0]}}, {'type': 'Feature', 'properties': {'Addresses': 'Stadtworbis auf dem Eichsfelde', 'ids': '0', 'geonames address': '0'}, 'geometry': {'type': 'Point', 'coordinates': [0.0, 0.0]}}, {'type': 'Feature', 'properties': {'Addresses': 'Stockholm', 'ids': 2673722, 'geonames address': 'Stockholm'}, 'geometry': {'type': 'Point', 'coordinates': [18.0, 59.5]}}, {'type': 'Feature', 'properties': {'Addresses': 'Tambach im Thüringer Walde', 'ids': '0', 'geonames address': '0'}, 'geometry': {'type': 'Point', 'coordinates': [0.0, 0.0]}}, {'type': 'Feature', 'properties': {'Addresses': 'Tonndorf', 'ids': 6550285, 'geonames address': 'Tonndorf'}, 'geometry': {'type': 'Point', 'coordinates': [11.20339, 50.88917]}}, {'type': 'Feature', 'properties': {'Addresses': 'Torgau', 'ids': 6551134, 'geonames address': 'Torgau'}, 'geometry': {'type': 'Point', 'coordinates': [12.9699, 51.5582]}}, {'type': 'Feature', 'properties': {'Addresses': 'Treffurt', 'ids': 6550969, 'geonames address': 'Treffurt'}, 'geometry': {'type': 'Point', 'coordinates': [10.2272, 51.1311]}}, {'type': 'Feature', 'properties': {'Addresses': 'Trier', 'ids': 3247911, 'geonames address': 'Kreisfreie Stadt Trier'}, 'geometry': {'type': 'Point', 'coordinates': [6.675, 49.76917]}}, {'type': 'Feature', 'properties': {'Addresses': 'Upsala', 'ids': 5051153, 'geonames address': 'City of Upsala'}, 'geometry': {'type': 'Point', 'coordinates': [-94.56889, 45.80806]}}, {'type': 'Feature', 'properties': {'Addresses': 'Vippach', 'ids': '0', 'geonames address': '0'}, 'geometry': {'type': 'Point', 'coordinates': [0.0, 0.0]}}, {'type': 'Feature', 'properties': {'Addresses': 'Vippachedelhausen', 'ids': 6550289, 'geonames address': 'Vippachedelhausen'}, 'geometry': {'type': 'Point', 'coordinates': [11.2, 51.0833]}}, {'type': 'Feature', 'properties': {'Addresses': 'Vlotho', 'ids': 6557624, 'geonames address': 'Vlotho'}, 'geometry': {'type': 'Point', 'coordinates': [8.7806, 52.1388]}}, {'type': 'Feature', 'properties': {'Addresses': 'Wandersleben', 'ids': '0', 'geonames address': '0'}, 'geometry': {'type': 'Point', 'coordinates': [0.0, 0.0]}}, {'type': 'Feature', 'properties': {'Addresses': 'Weimar', 'ids': 2812479, 'geonames address': 'Kreisfreie Stadt Weimar'}, 'geometry': {'type': 'Point', 'coordinates': [11.33806, 50.97361]}}, {'type': 'Feature', 'properties': {'Addresses': 'Weißensee', 'ids': 2811859, 'geonames address': 'Weißensee Bezirk'}, 'geometry': {'type': 'Point', 'coordinates': [13.45, 52.55]}}, {'type': 'Feature', 'properties': {'Addresses': 'Wendehausen bei Treffurt', 'ids': '0', 'geonames address': '0'}, 'geometry': {'type': 'Point', 'coordinates': [0.0, 0.0]}}, {'type': 'Feature', 'properties': {'Addresses': 'Wetzlar', 'ids': 6557787, 'geonames address': 'Wetzlar'}, 'geometry': {'type': 'Point', 'coordinates': [8.505, 50.54553]}}, {'type': 'Feature', 'properties': {'Addresses': 'Wien', 'ids': 2761367, 'geonames address': 'Vienna'}, 'geometry': {'type': 'Point', 'coordinates': [16.37169, 48.2082]}}, {'type': 'Feature', 'properties': {'Addresses': 'Worbis', 'ids': 7602636, 'geonames address': 'Leinefelde-Worbis'}, 'geometry': {'type': 'Point', 'coordinates': [10.33333, 51.37915]}}, {'type': 'Feature', 'properties': {'Addresses': 'Worms', 'ids': 3247467, 'geonames address': 'Kreisfreie Stadt Worms'}, 'geometry': {'type': 'Point', 'coordinates': [8.33583, 49.66306]}}, {'type': 'Feature', 'properties': {'Addresses': 'Würzburg', 'ids': 3220897, 'geonames address': 'Kreisfreie Stadt Würzburg'}, 'geometry': {'type': 'Point', 'coordinates': [9.94041, 49.7822]}}, {'type': 'Feature', 'properties': {'Addresses': 'Zeitz', 'ids': 6550899, 'geonames address': 'Zeitz'}, 'geometry': {'type': 'Point', 'coordinates': [12.1289, 51.0597]}}]}\n"
          ]
        }
      ]
    },
    {
      "cell_type": "markdown",
      "source": [
        "Now we can plot the geocoded data to an interactive map. The code below is partly based on an Ipyleaflet Tutorial provided by the *Carpentries Incubator*:\n",
        "\n",
        "https://carpentries-incubator.github.io/jupyter_maps/01-introduction/index.html"
      ],
      "metadata": {
        "id": "nR6m3PU0HO-M"
      }
    },
    {
      "cell_type": "code",
      "source": [
        "## plot geocoded data on interactive map\n",
        "\n",
        "# initialise interactive map\n",
        "\n",
        "from ipyleaflet import Map, basemaps, GeoJSON, LayersControl\n",
        "import random\n",
        "\n",
        "# customise map\n",
        "\n",
        "map = Map(center = (55, 7), zoom = 5, min_zoom = 1, max_zoom = 20, \n",
        "    basemap=basemaps.Stamen.Terrain)\n",
        "\n",
        "# add functionality to add or remove layers to map itself\n",
        "\n",
        "map.add_control(LayersControl())\n",
        "\n",
        "def random_color(feature):\n",
        "    return {\n",
        "        'color': 'black',\n",
        "        'fillColor': random.choice(['red', 'yellow', 'green', 'orange']),\n",
        "    }\n",
        "\n",
        "geo_json = GeoJSON(\n",
        "    data=data,\n",
        "    style={\n",
        "        'opacity': 1, 'dashArray': '7', 'fillOpacity': 0.1, 'weight': 2\n",
        "    },\n",
        "    hover_style={\n",
        "        'color': 'red', 'dashArray': '0', 'fillOpacity': 0.5\n",
        "    },\n",
        "    style_callback=random_color\n",
        ")\n",
        "\n",
        "# add geocoded data to map\n",
        "\n",
        "map.add_layer(geo_json)\n",
        "\n",
        "map\n"
      ],
      "metadata": {
        "id": "qG0aDIfMAhxw",
        "colab": {
          "base_uri": "https://localhost:8080/",
          "height": 421,
          "referenced_widgets": [
            "3794c8154fa3400ba339a30e0e13d8fc",
            "5120df12682f4ba9934a26a9122c9765",
            "acbc8a695723458eb412f07c2f30e558",
            "4253e198c5c546b5a34a3621bf4342b5",
            "1a9c21afb85341e9b5d60655c15d5088",
            "298b2990b57c46a6850b71963763c3e9",
            "de25a795bdc54cf6ace39fdc139846cb",
            "f36a25acc7854d738d6bf9e705e4d7ff",
            "f37127d8806748959970d7c6d95e613a",
            "9c567094047f48528b5973efacc811c7"
          ]
        },
        "outputId": "4a4fc8e9-b1da-4fa4-f570-0490d21333fe"
      },
      "execution_count": null,
      "outputs": [
        {
          "output_type": "display_data",
          "data": {
            "text/plain": [
              "Map(center=[55, 7], controls=(ZoomControl(options=['position', 'zoom_in_text', 'zoom_in_title', 'zoom_out_text…"
            ],
            "application/vnd.jupyter.widget-view+json": {
              "version_major": 2,
              "version_minor": 0,
              "model_id": "3794c8154fa3400ba339a30e0e13d8fc"
            }
          },
          "metadata": {
            "application/vnd.jupyter.widget-view+json": {
              "colab": {
                "custom_widget_manager": {
                  "url": "https://ssl.gstatic.com/colaboratory-static/widgets/colab-cdn-widget-manager/b3e629b1971e1542/manager.min.js"
                }
              }
            }
          }
        }
      ]
    },
    {
      "cell_type": "markdown",
      "source": [
        "Congratulations, you have just plotted a new map! At the moment, the map only has markers for the point geometries but no pop-up labels. To embed those, other Python packages will need to be imported first. I will add pop-ups in the next development step. \n",
        "\n",
        "Notebook created by: Monika Barget\n",
        "\n",
        "Latest update: 26 January 2023"
      ],
      "metadata": {
        "id": "GBSEVpnKXS_u"
      }
    }
  ]
}