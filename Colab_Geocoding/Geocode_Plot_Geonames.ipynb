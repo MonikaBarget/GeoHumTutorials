{
  "nbformat": 4,
  "nbformat_minor": 0,
  "metadata": {
    "colab": {
      "provenance": []
    },
    "kernelspec": {
      "name": "python3",
      "display_name": "Python 3"
    },
    "language_info": {
      "name": "python"
    }
  },
  "cells": [
    {
      "cell_type": "markdown",
      "source": [
        "This is a script for geocoding and plotting spatial information from an EXCEL spreadsheet with an \"Addresses\" column. The API used is **GeoNames.**\n",
        "\n",
        "GeoNames is mainly using REST APIs. It offers 40 different webservices.\n",
        "\n",
        "**Geocoder** for Python supports the following ones:\n",
        "\n",
        "*   (geocoding) retrieve GeoNames’s geocoded data from a query string, and \n",
        "various filters\n",
        "*   (details) retrieve all geonames data for a given geonames_id\n",
        "*   (children) retrieve the hierarchy of a given geonames_id\n",
        "*   (hierarchy) retrieve all children for a given geonames_id\n",
        "\n",
        "Full documentation: https://geocoder.readthedocs.io/providers/GeoNames.html\n",
        "\n",
        "The first step is to get COLAB working:\n"
      ],
      "metadata": {
        "id": "S3ydZRhYATDN"
      }
    },
    {
      "cell_type": "code",
      "source": [
        "## mount drive\n",
        "from google.colab import drive\n",
        "drive.mount(\"/content/drive\")"
      ],
      "metadata": {
        "id": "aiN4EDrIrDz2"
      },
      "execution_count": null,
      "outputs": []
    },
    {
      "cell_type": "markdown",
      "source": [
        "A file path needs to be defined for storing input or output files linked with this script:"
      ],
      "metadata": {
        "id": "rIP7cuKSvXZS"
      }
    },
    {
      "cell_type": "code",
      "source": [
        "directory=\"/content/drive/My Drive/Colab_Geohumanities/\""
      ],
      "metadata": {
        "id": "39qqRJOgZmPC"
      },
      "execution_count": null,
      "outputs": []
    },
    {
      "cell_type": "markdown",
      "source": [
        "Now we can install packages that are not part of Python's standard distribution but are necessary for geocoding and plotting maps. There will most likely be a dependency error for NumPy, but the script should still work."
      ],
      "metadata": {
        "id": "ujlAaGvavkCN"
      }
    },
    {
      "cell_type": "code",
      "source": [
        "## install packages that are not part of Python's standard distribution\n",
        "\n",
        "!pip install geocoder\n",
        "!pip install basemap"
      ],
      "metadata": {
        "id": "3d6OjjlTZ2ri"
      },
      "execution_count": null,
      "outputs": []
    },
    {
      "cell_type": "markdown",
      "source": [
        "Now that all packages are installed, we can read the input data (in this case from Github or Google Drive) and display the content in a table."
      ],
      "metadata": {
        "id": "2XQp115Wv4MX"
      }
    },
    {
      "cell_type": "code",
      "source": [
        "## import relevant packages\n",
        "import pandas as pd\n",
        "import geocoder\n",
        "# command needed for correct plotting in Jupyter Notebooks:\n",
        "%matplotlib inline \n",
        "import pandas as pd\n",
        "from mpl_toolkits.basemap import Basemap\n",
        "import matplotlib.pyplot as plt\n",
        "import os\n",
        "\n",
        "## geocode data from spreadsheet\n",
        "\n",
        "# input addresses in EXCEL format and read\n",
        "infile=\"https://github.com/MonikaBarget/GeoHumTutorials/blob/master/Colab_Geocoding/Addresses.xlsx?raw=true\"\n",
        "# infile=directory+\"Adresses.xlsx\" # alternative input from Google Drive\n",
        "addresses_df = pd.read_excel(infile)\n",
        "display(addresses_df)"
      ],
      "metadata": {
        "id": "EnfAud5yJcpL"
      },
      "execution_count": null,
      "outputs": []
    },
    {
      "cell_type": "markdown",
      "source": [
        "Now we will use the Pandas package to read the content of the address column to a so-called DataFrame. A DataFrame is a data structure that organizes data into a 2-dimensional table of rows and columns, much like a spreadsheet. This 2-dimensional structure is often used to manipulate data with programming languages. Our \"manipulation\" is the act of geocoding."
      ],
      "metadata": {
        "id": "f0i3o8zrJnGG"
      }
    },
    {
      "cell_type": "code",
      "source": [
        "# read information from address column to dataframe\n",
        "addresses = addresses_df[\"Addresses\"].values.tolist()\n",
        "\n",
        "latitudes = []\n",
        "longitudes = []\n",
        "ids = []\n",
        "g_addresses = []\n",
        "\n",
        "# geocode each address in file\n",
        "for address in addresses:\n",
        "\ttry:\n",
        "\t\tg = geocoder.geonames(address, key=\"#####\", featureClass='A')\n",
        "\n",
        "\t\tif g and len(g):\n",
        "\t\t\tgeonames_address = g.address\n",
        "\t\t\tlongitude = g.lng\n",
        "\t\t\tlatitude = g.lat\n",
        "\t\t\tid = g.geonames_id\n",
        "\t\t\tprint(geonames_address, longitude, latitude, id)\n",
        "\t\telse:\n",
        "\t\t\tgeonames_address = \"N/A\"\n",
        "\t\t\tlongitude = \"N/A\"\n",
        "\t\t\tlatitude = \"N/A\"\n",
        "\t\t\tid = \"N/A\"\n",
        "\n",
        "\t# add information to lists\n",
        "\t\tg_addresses.append(geonames_address)\n",
        "\t\tlatitudes.append(latitude)\n",
        "\t\tlongitudes.append(longitude)\n",
        "\t\tids.append(id)\n",
        "\n",
        "\texcept ValueError:\n",
        "\t\tprint(\"No more data in file.\")\n",
        "\n",
        "# write information to new columns in dataframe\n",
        "addresses_df[\"latitudes\"] = latitudes\n",
        "addresses_df[\"longitudes\"] = longitudes\n",
        "addresses_df[\"ids\"] = ids\n",
        "addresses_df[\"geonames address\"] = g_addresses\n",
        "\n",
        "print(\"All addresses geocoded!\")\n"
      ],
      "metadata": {
        "id": "spKIUGXb_TZV"
      },
      "execution_count": null,
      "outputs": []
    },
    {
      "cell_type": "markdown",
      "source": [
        "If all addresses have been successfully geocoded, the next step is to check the geocoding and write the results to a new EXCEL file. \n"
      ],
      "metadata": {
        "id": "TNFqD_PGXPmn"
      }
    },
    {
      "cell_type": "code",
      "source": [
        "# view geocoded data\n",
        "display(addresses_df)\n",
        "\n",
        "# write geocoded places to new file\n",
        "addresses_df.to_excel(directory+\"Addresses_Geocoded_withID.xlsx\")"
      ],
      "metadata": {
        "id": "NAfqlKu6Ftuq"
      },
      "execution_count": null,
      "outputs": []
    },
    {
      "cell_type": "markdown",
      "source": [
        "Now we can plot the geocoded data to a 2-dimensional, static map. As this map is a world-map, the individual places will only be visible as small blue dots."
      ],
      "metadata": {
        "id": "nR6m3PU0HO-M"
      }
    },
    {
      "cell_type": "code",
      "source": [
        "## plot geocoded data\n",
        "\n",
        "# read file with geocoded data\n",
        "places = directory+'Addresses_Geocoded_withID.xlsx'\n",
        "data = pd.read_excel(places)\n",
        "\n",
        "# set the size of the map\n",
        "fig = plt.figure(figsize=(15,10))\n",
        "\n",
        "# create the map - set latitude and longitude\n",
        "m = Basemap(projection = 'mill', llcrnrlat = -90, urcrnrlat = 90, llcrnrlon = -180, urcrnrlon = 180, resolution = 'c')\n",
        "\n",
        "# draw the coastline\n",
        "m.drawcoastlines()\n",
        "m.drawcountries(color='gray') # OPTIONAL: define color for modern country borders\n",
        "m.drawstates(color='gray') # OPTIONAL: define color for borders of modern US federal states\n",
        "\n",
        "# write variables for latitude and longitude to list\n",
        "lat = data['latitudes'].tolist()\n",
        "lon = data['longitudes'].tolist()\n",
        "\n",
        "# plot the map\n",
        "m.scatter(lon, lat, latlon = True, s = 10, c = 'blue', marker = 'o', alpha = 1)\n",
        "\n",
        "plt.show()"
      ],
      "metadata": {
        "id": "qG0aDIfMAhxw"
      },
      "execution_count": null,
      "outputs": []
    },
    {
      "cell_type": "markdown",
      "source": [
        "Congratulations, you have just plotted a new map! You can save the image by rightclicking with your mouse and downloading it to your local drive.\n"
      ],
      "metadata": {
        "id": "GBSEVpnKXS_u"
      }
    }
  ]
}