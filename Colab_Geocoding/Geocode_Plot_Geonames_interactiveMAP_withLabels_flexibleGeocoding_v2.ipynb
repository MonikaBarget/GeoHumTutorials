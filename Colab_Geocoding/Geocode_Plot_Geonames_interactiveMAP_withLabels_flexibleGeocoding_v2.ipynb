{
  "nbformat": 4,
  "nbformat_minor": 0,
  "metadata": {
    "colab": {
      "provenance": []
    },
    "kernelspec": {
      "name": "python3",
      "display_name": "Python 3"
    },
    "language_info": {
      "name": "python"
    }
  },
  "cells": [
    {
      "cell_type": "markdown",
      "source": [
        "This is a script for geocoding and plotting spatial information from an EXCEL spreadsheet with an \"Addresses\" column. The API used is **GeoNames.**\n",
        "\n",
        "GeoNames is mainly using REST APIs. It offers 40 different webservices.\n",
        "\n",
        "**Geocoder** for Python supports the following ones:\n",
        "\n",
        "*   (geocoding) retrieve GeoNames’s geocoded data from a query string, and \n",
        "various filters\n",
        "*   (details) retrieve all geonames data for a given geonames_id\n",
        "*   (children) retrieve the hierarchy of a given geonames_id\n",
        "*   (hierarchy) retrieve all children for a given geonames_id\n",
        "\n",
        "Full documentation: https://geocoder.readthedocs.io/providers/GeoNames.html\n",
        "\n",
        "The first step is to get COLAB working:\n"
      ],
      "metadata": {
        "id": "S3ydZRhYATDN"
      }
    },
    {
      "cell_type": "code",
      "source": [
        "## mount drive\n",
        "from google.colab import drive\n",
        "drive.mount(\"/content/drive\")"
      ],
      "metadata": {
        "id": "aiN4EDrIrDz2"
      },
      "execution_count": null,
      "outputs": []
    },
    {
      "cell_type": "markdown",
      "source": [
        "A file path needs to be defined for storing input or output files linked with this script:"
      ],
      "metadata": {
        "id": "rIP7cuKSvXZS"
      }
    },
    {
      "cell_type": "code",
      "source": [
        "directory=\"/content/drive/My Drive/Colab_FASoS/\" ## add your own folder name"
      ],
      "metadata": {
        "id": "39qqRJOgZmPC"
      },
      "execution_count": null,
      "outputs": []
    },
    {
      "cell_type": "markdown",
      "source": [
        "Now we can install packages that are not part of Python's standard distribution but are necessary for geocoding and plotting maps. There will most likely be a dependency error for NumPy, but the script should still work."
      ],
      "metadata": {
        "id": "ujlAaGvavkCN"
      }
    },
    {
      "cell_type": "code",
      "source": [
        "## install packages that are not part of Python's standard distribution\n",
        "\n",
        "!pip install geocoder\n",
        "!pip install basemap\n",
        "!pip install ipyleaflet\n",
        "!pip install geojson"
      ],
      "metadata": {
        "id": "3d6OjjlTZ2ri"
      },
      "execution_count": null,
      "outputs": []
    },
    {
      "cell_type": "markdown",
      "source": [
        "Now that all packages are installed, we can read the input data (in this case from Github or Google Drive) and display the content in a table."
      ],
      "metadata": {
        "id": "2XQp115Wv4MX"
      }
    },
    {
      "cell_type": "code",
      "source": [
        "## import relevant packages for geocoding as well as reading and writing data\n",
        "import pandas as pd\n",
        "import numpy as np # e.g. for working with empty cells\n",
        "import geocoder\n",
        "# command needed for correct plotting in Jupyter Notebooks:\n",
        "%matplotlib inline \n",
        "import pandas as pd\n",
        "from mpl_toolkits.basemap import Basemap\n",
        "import matplotlib.pyplot as plt\n",
        "import os\n",
        "import json\n",
        "from geojson import Feature, FeatureCollection, Point\n",
        "\n",
        "## geocode data from spreadsheet\n",
        "\n",
        "## input addresses in EXCEL format and read\n",
        "## OPTION 1: from Github as raw file\n",
        "##infile=\"https://github.com/MonikaBarget/GeoHumTutorials/blob/master/Colab_Geocoding/Addresses_AP3.xlsx?raw=true\"\n",
        "\n",
        "## OPTION 2: from your Google Drive as EXCEL FILE\n",
        "infile=directory+\"new-places.xlsx\"\n",
        "\n",
        "## OPTION 3: from your Google Drive as CSV FILE\n",
        "#infile=directory+\"ATLASSES & COSMOGRAPHIES_utf-8.csv\"\n",
        "\n",
        "## read if EXCEL\n",
        "addresses_df = pd.read_excel(infile)\n",
        "display(addresses_df)\n",
        "\n",
        "## read if CSV\n",
        "#addresses_df = pd.read_csv(infile, encoding=\"utf-8\", delimiter=\";\") # delimiter=None # encoding=None # encoding_errors='strict'\n",
        "#display(addresses_df)"
      ],
      "metadata": {
        "id": "EnfAud5yJcpL"
      },
      "execution_count": null,
      "outputs": []
    },
    {
      "cell_type": "markdown",
      "source": [
        "Now we will use the Pandas package to read the content of the address column to a so-called DataFrame. A DataFrame is a data structure that organizes data into a 2-dimensional table of rows and columns, much like a spreadsheet. This 2-dimensional structure is often used to manipulate data with programming languages. Our \"manipulation\" is the act of geocoding."
      ],
      "metadata": {
        "id": "f0i3o8zrJnGG"
      }
    },
    {
      "cell_type": "code",
      "source": [
        "# read information from address column to dataframe\n",
        "addresses_df[\"addresses_full\"] = addresses_df[\"Addresses\"].astype(str) + \", \" + addresses_df[\"continent\"].astype(str)\n",
        "addresses = addresses_df[\"addresses_full\"].values.tolist() # add name of column to geocode\n",
        "\n",
        "latitudes = []\n",
        "longitudes = []\n",
        "ids = []\n",
        "g_addresses = []\n",
        "\n",
        "# geocode each address in file if no ID found at all\n",
        "\n",
        "if \"ids\" not in addresses_df: \n",
        "\tfor address in addresses:\n",
        "\t\ttry:\n",
        "\t\t\tg = geocoder.geonames(address, key=\"Mob2023\", featureClass='P') # http://www.geonames.org/source-code/javadoc/org/geonames/FeatureClass.html\n",
        "\n",
        "\t\t\tif g and len(g):\n",
        "\t\t\t\tgeonames_address = g.address\n",
        "\t\t\t\tlongitude = g.lng\n",
        "\t\t\t\tlatitude = g.lat\n",
        "\t\t\t\tid = g.geonames_id\n",
        "\t\t\t\t#print(geonames_address, longitude, latitude, id) # OPTIONAL: print individual output\n",
        "\t\t\telse:\n",
        "\t\t\t\tgeonames_address = \"NaN\"\n",
        "\t\t\t\tlongitude = \"NaN\"\n",
        "\t\t\t\tlatitude = \"NaN\"\n",
        "\t\t\t\tid = \"NaN\"\n",
        "\n",
        "\t\t\t# add information to lists\n",
        "\t\t\tg_addresses.append(geonames_address)\n",
        "\t\t\tlatitudes.append(latitude)\n",
        "\t\t\tlongitudes.append(longitude)\n",
        "\t\t\tids.append(id)\n",
        "\n",
        "\t\texcept ValueError:\n",
        "\t\t\tprint(\"No more data in file.\") \n",
        "\t \n",
        "\t# write information to new columns in dataframe\n",
        "\taddresses_df[\"latitudes\"] = latitudes\n",
        "\taddresses_df[\"longitudes\"] = longitudes\n",
        "\taddresses_df[\"ids\"] = ids\n",
        "\taddresses_df[\"geonames address\"] = g_addresses\n",
        "\t \n",
        "# geocode only empty values if ID column is found\n",
        "\n",
        "else:\n",
        "\tmain_df=addresses_df[addresses_df[\"ids\"].notna()]\n",
        "\tsub_df=addresses_df[addresses_df['ids'].isna()] # fill dataframe where ID cell has no value\n",
        "\tdisplay(sub_df)\n",
        "\tsub_addresses = sub_df[\"Addresses\"].values.tolist()\n",
        "\tfor sub_address in sub_addresses:\n",
        "\t\ttry:\n",
        "\t\t\tg = geocoder.geonames(sub_address, key=\"Mob2023\", featureClass='P') # http://www.geonames.org/source-code/javadoc/org/geonames/FeatureClass.html\n",
        "\n",
        "\t\t\tif g and len(g):\n",
        "\t\t\t\tgeonames_address = g.address\n",
        "\t\t\t\tlongitude = g.lng\n",
        "\t\t\t\tlatitude = g.lat\n",
        "\t\t\t\tid = g.geonames_id\n",
        "\t\t\t\t#print(geonames_address, longitude, latitude, id) # OPTIONAL: print individual output\n",
        "\t\t\telse:\n",
        "\t\t\t\tgeonames_address = \"NaN\"\n",
        "\t\t\t\tlongitude = \"NaN\"\n",
        "\t\t\t\tlatitude = \"NaN\"\n",
        "\t\t\t\tid = \"NaN\"\n",
        "\n",
        "\t\t\t# add information to lists\n",
        "\t\t\tg_addresses.append(geonames_address)\n",
        "\t\t\tlatitudes.append(latitude)\n",
        "\t\t\tlongitudes.append(longitude)\n",
        "\t\t\tids.append(id)\n",
        "\n",
        "\t\texcept ValueError:\n",
        "\t\t\tprint(\"No more data in file.\")\n",
        "\n",
        "\t# write information to new columns in sub-dataframe\n",
        "\tsub_df[\"latitudes\"] = latitudes\n",
        "\tsub_df[\"longitudes\"] = longitudes\n",
        "\tsub_df[\"ids\"] = ids\n",
        "\tsub_df[\"geonames address\"] = g_addresses\n",
        "\n",
        "\taddresses_df = pd.concat([main_df, sub_df])\n",
        "\n",
        "print(\"All addresses geocoded!\")\n"
      ],
      "metadata": {
        "id": "spKIUGXb_TZV"
      },
      "execution_count": null,
      "outputs": []
    },
    {
      "cell_type": "markdown",
      "source": [
        "If all addresses have been successfully geocoded, the next step is to check the geocoding and write the results to a new EXCEL file. \n"
      ],
      "metadata": {
        "id": "TNFqD_PGXPmn"
      }
    },
    {
      "cell_type": "code",
      "source": [
        "# view geocoded data\n",
        "display(addresses_df)\n",
        "\n",
        "# write geocoded places to new file\n",
        "addresses_df.to_excel(directory+\"Mainz2.xlsx\")\n",
        "\n",
        "addresses_df.to_csv(directory+\"Mainz2.csv\")"
      ],
      "metadata": {
        "id": "NAfqlKu6Ftuq"
      },
      "execution_count": null,
      "outputs": []
    },
    {
      "cell_type": "markdown",
      "source": [
        "Our geocoded data have been written to a new EXCEL file, which is handy for further (manual) data cleaning and data enrichment. But EXCEL is unfortunately not a file format which GIS applications can handle. This is why we also need to export our geocoded data to GeoJSON.\n",
        "\n",
        "The conversion of a DataFrame to GeoJSON follows the instructions in the following tutorial by Geoff Boeing:\n",
        "\n",
        "https://notebook.community/captainsafia/nteract/applications/desktop/example-notebooks/pandas-to-geojson"
      ],
      "metadata": {
        "id": "5V7S0QW6kptc"
      }
    },
    {
      "cell_type": "code",
      "source": [
        "# convert coordinates to floats\n",
        "\n",
        "addresses_df['latitudes'] = addresses_df['latitudes'].astype(float)\n",
        "addresses_df['longitudes'] = addresses_df['longitudes'].astype(float)\n",
        "\n",
        "# ignore places that have not been geocoded\n",
        "\n",
        "df_geo = addresses_df.dropna(subset=['latitudes', 'longitudes'], axis=0, inplace=False)\n",
        "\n",
        "# combine information in GeoJSON fromat\n",
        "\n",
        "def df_to_geojson(df, properties, lat='latitudes', lon='longitudes'):\n",
        "    # create a new python dict to contain our geojson data, using geojson format\n",
        "    geojson = {'type':'FeatureCollection', 'features':[]}\n",
        "\n",
        "    # loop through each row in the dataframe and convert each row to geojson format\n",
        "    for _, row in df.iterrows():\n",
        "        # create a feature template to fill in\n",
        "        feature = {'type':'Feature',\n",
        "                   'properties':{},\n",
        "                   'geometry':{'type':'Point',\n",
        "                               'coordinates':[]}}\n",
        "\n",
        "        # fill in the coordinates\n",
        "        feature['geometry']['coordinates'] = [row[lon],row[lat]]\n",
        "\n",
        "        # for each column, get the value and add it as a new feature property\n",
        "        for prop in properties:\n",
        "            feature['properties'][prop] = row[prop]\n",
        "        \n",
        "        # add this feature (aka, converted dataframe row) to the list of features inside our dict\n",
        "        geojson['features'].append(feature)\n",
        "    \n",
        "    return geojson\n",
        "\n",
        "cols = ['Addresses', 'ids', 'geonames address'] # make sure that your column with place names is selected\n",
        "geojson = df_to_geojson(df_geo, cols)\n",
        "\n",
        "with open(directory+'Mainz2.geojson', 'w', encoding='utf-8') as f:\n",
        "    json.dump(geojson, f, ensure_ascii=False)"
      ],
      "metadata": {
        "id": "aHzmL7T1k9R-"
      },
      "execution_count": null,
      "outputs": []
    },
    {
      "cell_type": "markdown",
      "source": [
        "Your Google Drive should now contain a file with the \"geojson\" file ending. We can check if this file has been created and if it is well-formed."
      ],
      "metadata": {
        "id": "3jI29JhovOX5"
      }
    },
    {
      "cell_type": "code",
      "source": [
        "## double-check if GeoJSON file has been created and is well-formed\n",
        "\n",
        "# load GeoJSON data\n",
        "\n",
        "with open(directory+'Mainz2.geojson', 'r') as f2:\n",
        "    data = json.load(f2)\n",
        "    print(data)"
      ],
      "metadata": {
        "id": "djFHbGDaqvi_"
      },
      "execution_count": null,
      "outputs": []
    },
    {
      "cell_type": "markdown",
      "source": [
        "Now we can plot the geocoded data to an interactive map. The code below is partly based on an Ipyleaflet Tutorial provided by the *Carpentries Incubator*:\n",
        "\n",
        "https://carpentries-incubator.github.io/jupyter_maps/01-introduction/index.html"
      ],
      "metadata": {
        "id": "nR6m3PU0HO-M"
      }
    },
    {
      "cell_type": "code",
      "source": [
        "# plot map from geocoded data and add labels for all places on map\n",
        "\n",
        "from ipyleaflet import Map, Marker, Popup\n",
        "from ipywidgets import HTML\n",
        "\n",
        "# Create a map centered on a specific location\n",
        "map = Map(center=(55, 7), zoom=3)\n",
        "\n",
        "# print(data) # optional to check if GeoJSON file is read correctly\n",
        "\n",
        "# Loop over the features and create a marker for each one\n",
        "for feature in data['features']:\n",
        "    # Get the coordinates and place name from the feature properties\n",
        "    coords = feature['geometry']['coordinates']\n",
        "    place_name = feature['properties']['Addresses'] # double-check name of \"place name\" column\n",
        "    #print(place_name) # optional to check if place names are correctly displayed\n",
        "\n",
        "    # Create a marker\n",
        "\n",
        "    marker = Marker(location=(coords[1], coords[0]))\n",
        "\n",
        "    # Create pop-up for each location\n",
        "        \n",
        "    popup = Popup(\n",
        "        location=(coords[1], coords[0]),\n",
        "        close_button=False,\n",
        "        auto_close=False,\n",
        "        close_on_escape_key=False,\n",
        "    )\n",
        "    popup.children = str(place_name)[:20] # truncate place names to first \"n\" characters\n",
        "    print(popup.children)\n",
        "    message= HTML()\n",
        "    message.value = popup.children\n",
        "    marker.popup = message\n",
        "\n",
        "    # Add the marker to the map\n",
        "    map.add_layer(marker)\n",
        "\n",
        "# Display the map\n",
        "map\n",
        "\n"
      ],
      "metadata": {
        "id": "bNEKtDRFPnb2"
      },
      "execution_count": null,
      "outputs": []
    },
    {
      "cell_type": "markdown",
      "source": [
        "Congratulations, you have just plotted a new map! At the moment, the map only has markers for the point geometries but no pop-up labels. To embed those, other Python packages will need to be imported first. I will add pop-ups in the next development step. \n",
        "\n",
        "Notebook created by: Monika Barget\n",
        "\n",
        "Latest update: 26 January 2023"
      ],
      "metadata": {
        "id": "GBSEVpnKXS_u"
      }
    }
  ]
}