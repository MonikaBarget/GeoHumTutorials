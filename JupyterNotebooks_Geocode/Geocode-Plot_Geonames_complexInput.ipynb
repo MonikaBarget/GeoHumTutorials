{
 "cells": [
  {
   "cell_type": "markdown",
   "metadata": {},
   "source": [
    "This is a script for geocoding and plotting spatial information from an EXCEL spreadsheet with an \"Addresses\" column. The API used is **GeoNames.**\n",
    "\n",
    "GeoNames is mainly using REST APIs. It offers 40 different webservices.\n",
    "\n",
    "**Geocoder** for Python supports the following ones:\n",
    "\n",
    "*   (geocoding) retrieve GeoNames’s geocoded data from a query string, and \n",
    "various filters\n",
    "*   (details) retrieve all geonames data for a given geonames_id\n",
    "*   (children) retrieve the hierarchy of a given geonames_id\n",
    "*   (hierarchy) retrieve all children for a given geonames_id\n",
    "\n",
    "Full documentation: https://geocoder.readthedocs.io/providers/GeoNames.html\n",
    "\n",
    "Now we can install packages that are not part of Python's standard distribution but are necessary for geocoding and plotting maps. There will most likely be a dependency error for NumPy, but the script should still work."
   ]
  },
  {
   "cell_type": "code",
   "execution_count": null,
   "metadata": {
    "colab": {
     "base_uri": "https://localhost:8080/"
    },
    "executionInfo": {
     "elapsed": 8244,
     "status": "ok",
     "timestamp": 1674759196638,
     "user": {
      "displayName": "Monika Renate Barget",
      "userId": "17857435992823422828"
     },
     "user_tz": -60
    },
    "id": "3d6OjjlTZ2ri",
    "outputId": "9afaa2fd-f890-4164-f6d7-fcb878bc2af5",
    "tags": []
   },
   "outputs": [],
   "source": [
    "## install packages that are not part of Python's standard distribution\n",
    "\n",
    "!pip install --upgrade pip\n",
    "\n",
    "!pip install geocoder\n",
    "!pip install basemap"
   ]
  },
  {
   "cell_type": "markdown",
   "metadata": {
    "id": "2XQp115Wv4MX"
   },
   "source": [
    "Now that all packages are installed, we can read the input data (in this case from Github or Google Drive) and display the content in a table."
   ]
  },
  {
   "cell_type": "code",
   "execution_count": null,
   "metadata": {
    "colab": {
     "base_uri": "https://localhost:8080/",
     "height": 424
    },
    "executionInfo": {
     "elapsed": 1848,
     "status": "ok",
     "timestamp": 1674759233049,
     "user": {
      "displayName": "Monika Renate Barget",
      "userId": "17857435992823422828"
     },
     "user_tz": -60
    },
    "id": "EnfAud5yJcpL",
    "outputId": "bc28a633-eabe-4a9b-fc11-f537e9f2ef29",
    "tags": []
   },
   "outputs": [],
   "source": [
    "## import relevant packages\n",
    "import pandas as pd\n",
    "import geocoder\n",
    "# command needed for correct plotting in Jupyter Notebooks:\n",
    "%matplotlib inline \n",
    "import pandas as pd\n",
    "from mpl_toolkits.basemap import Basemap\n",
    "import matplotlib.pyplot as plt\n",
    "import os\n",
    "\n",
    "## geocode data from spreadsheet\n",
    "\n",
    "# input addresses in EXCEL format and read\n",
    "#infile=\"https://github.com/MonikaBarget/GeoHumTutorials/blob/master/Colab_Geocoding/Addresses_AP3.xlsx?raw=true\"\n",
    "\n",
    "addresses_df = pd.read_excel('Ortsontologie-Geocoded-newplaces.xlsx', dtype=str)\n",
    "display(addresses_df)"
   ]
  },
  {
   "cell_type": "markdown",
   "metadata": {
    "id": "f0i3o8zrJnGG"
   },
   "source": [
    "Now we will use the Pandas package to read the content of the address column to a so-called DataFrame. A DataFrame is a data structure that organizes data into a 2-dimensional table of rows and columns, much like a spreadsheet. This 2-dimensional structure is often used to manipulate data with programming languages. Our \"manipulation\" is the act of geocoding."
   ]
  },
  {
   "cell_type": "code",
   "execution_count": null,
   "metadata": {
    "colab": {
     "base_uri": "https://localhost:8080/"
    },
    "executionInfo": {
     "elapsed": 108155,
     "status": "ok",
     "timestamp": 1674759426280,
     "user": {
      "displayName": "Monika Renate Barget",
      "userId": "17857435992823422828"
     },
     "user_tz": -60
    },
    "id": "spKIUGXb_TZV",
    "outputId": "5afa51d3-ddeb-47a3-f461-b74be3095583",
    "tags": []
   },
   "outputs": [],
   "source": [
    "import geocoder\n",
    "import pandas as pd\n",
    "\n",
    "# Combine address and continent for geocoding\n",
    "addresses = addresses_df['place_name'].values.tolist()\n",
    "\n",
    "latitudes = []\n",
    "longitudes = []\n",
    "geonames_ids = []\n",
    "g_addresses = []\n",
    "\n",
    "# Geocode each combined address\n",
    "for a in addresses:\n",
    "    address = a + ', Europe'\n",
    "    try:\n",
    "        g = geocoder.geonames(address, key=\"YOURKEY\", featureClass='P')\n",
    "        g2 = geocoder.geonames(a.split(\", \")[-1], key=\"YOURKEY\", featureClass='P')\n",
    "        g3 = geocoder.geonames(address, key=\"YOURKEY\", featureClass='S')\n",
    "        g4 = geocoder.geonames(address, key=\"YOURKEY\", featureClass='A')\n",
    "        \n",
    "        # check if full address exists\n",
    "\n",
    "        if g and len(g):\n",
    "            geonames_address = g.address\n",
    "            longitude = g.lng\n",
    "            latitude = g.lat\n",
    "            geonames_id = g.geonames_id\n",
    "            # print(geonames_address, longitude, latitude, id) # OPTIONAL: print individual output\n",
    "    \n",
    "        # check if region exists\n",
    "    \n",
    "        elif g2 and len(g2):\n",
    "            print(a.split(\", \")[-1])\n",
    "            geonames_address = g.address\n",
    "            longitude = g.lng\n",
    "            latitude = g.lat\n",
    "            geonames_id = g.geonames_id\n",
    "            # print(geonames_address, longitude, latitude, id) # OPTIONAL: print individual output\n",
    "    \n",
    "        # check if full address is castle\n",
    "    \n",
    "        elif g3 and len(g3):\n",
    "            print(a.split(\", \")[-1])\n",
    "            geonames_address = g.address\n",
    "            longitude = g.lng\n",
    "            latitude = g.lat\n",
    "            geonames_id = g.geonames_id\n",
    "            # print(geonames_address, longitude, latitude, id) # OPTIONAL: print individual output\n",
    "            \n",
    "        # check if full address is area\n",
    "        \n",
    "        elif g4 and len(g4):\n",
    "            print(a.split(\", \")[-1])\n",
    "            geonames_address = g.address\n",
    "            longitude = g.lng\n",
    "            latitude = g.lat\n",
    "            geonames_id = g.geonames_id\n",
    "            # print(geonames_address, longitude, latitude, id) # OPTIONAL: print individual output\n",
    "        \n",
    "        else:\n",
    "            geonames_address = \"N/A\"\n",
    "            longitude = \"N/A\"\n",
    "            latitude = \"N/A\"\n",
    "            geonames_id = \"N/A\"\n",
    "\n",
    "        # Add information to lists\n",
    "        g_addresses.append(geonames_address)\n",
    "        latitudes.append(latitude)\n",
    "        longitudes.append(longitude)\n",
    "        geonames_ids.append(geonames_id)\n",
    "\n",
    "    except ValueError:\n",
    "        print(\"No more data in file.\")\n",
    "\n",
    "# Write information to new columns in dataframe\n",
    "addresses_df[\"latitudes\"] = latitudes\n",
    "addresses_df[\"longitudes\"] = longitudes\n",
    "addresses_df[\"ids\"] = geonames_ids\n",
    "addresses_df[\"geonames address\"] = g_addresses\n",
    "\n",
    "print(\"All addresses geocoded!\")\n",
    "\n"
   ]
  },
  {
   "cell_type": "markdown",
   "metadata": {
    "id": "TNFqD_PGXPmn"
   },
   "source": [
    "If all addresses have been successfully geocoded, the next step is to check the geocoding and write the results to a new EXCEL file. \n"
   ]
  },
  {
   "cell_type": "code",
   "execution_count": null,
   "metadata": {
    "colab": {
     "base_uri": "https://localhost:8080/",
     "height": 424
    },
    "executionInfo": {
     "elapsed": 385,
     "status": "ok",
     "timestamp": 1674759439557,
     "user": {
      "displayName": "Monika Renate Barget",
      "userId": "17857435992823422828"
     },
     "user_tz": -60
    },
    "id": "NAfqlKu6Ftuq",
    "outputId": "06fd4a06-cade-44a0-9fa8-84b9a71bedb6",
    "tags": []
   },
   "outputs": [],
   "source": [
    "# view geocoded data\n",
    "display(addresses_df)\n",
    "\n",
    "# write geocoded places to new file\n",
    "addresses_df.to_excel(\"Addresses_AP3ALLCLASSES_Geocoded_withID.xlsx\")"
   ]
  },
  {
   "cell_type": "markdown",
   "metadata": {
    "id": "nR6m3PU0HO-M"
   },
   "source": [
    "Now we can plot the geocoded data to a 2-dimensional, static map. As this map is a world-map, the individual places will only be visible as small coloured dots."
   ]
  },
  {
   "cell_type": "code",
   "execution_count": null,
   "metadata": {
    "colab": {
     "base_uri": "https://localhost:8080/",
     "height": 578
    },
    "executionInfo": {
     "elapsed": 1661,
     "status": "ok",
     "timestamp": 1674759557995,
     "user": {
      "displayName": "Monika Renate Barget",
      "userId": "17857435992823422828"
     },
     "user_tz": -60
    },
    "id": "qG0aDIfMAhxw",
    "outputId": "5bec6688-65ae-4b7d-a737-91ca309baf27",
    "tags": []
   },
   "outputs": [],
   "source": [
    "## plot geocoded data\n",
    "\n",
    "# read file with geocoded data\n",
    "places = 'Addresses_AP3NEW_Geocoded_withID.xlsx'\n",
    "data = pd.read_excel(places)\n",
    "\n",
    "# set the size of the map\n",
    "fig = plt.figure(figsize=(15,10))\n",
    "\n",
    "# create the map - set latitude and longitude\n",
    "m = Basemap(projection = 'mill', llcrnrlat = -90, urcrnrlat = 90, llcrnrlon = -180, urcrnrlon = 180, resolution = 'c')\n",
    "\n",
    "# draw the coastline\n",
    "m.drawcoastlines()\n",
    "m.drawcountries(color='gray') # OPTIONAL: define color for modern country borders\n",
    "m.drawstates(color='gray') # OPTIONAL: define color for borders of modern US federal states\n",
    "\n",
    "# write variables for latitude and longitude to list\n",
    "lat = data['latitudes'].tolist()\n",
    "lon = data['longitudes'].tolist()\n",
    "\n",
    "# plot the map\n",
    "m.scatter(lon, lat, latlon = True, s = 10, c = 'orange', marker = 'o', alpha = 1)\n",
    "\n",
    "plt.show()"
   ]
  },
  {
   "cell_type": "markdown",
   "metadata": {
    "id": "GBSEVpnKXS_u"
   },
   "source": [
    "Congratulations, you have just plotted a new map! You can save the image by rightclicking with your mouse and downloading it to your local drive.\n"
   ]
  }
 ],
 "metadata": {
  "colab": {
   "provenance": [
    {
     "file_id": "1TtMkbA2LFkC0Nuvsq0dZzQqGJIx1xQ7u",
     "timestamp": 1674484785552
    }
   ]
  },
  "kernelspec": {
   "display_name": "Python 3 (ipykernel)",
   "language": "python",
   "name": "python3"
  },
  "language_info": {
   "codemirror_mode": {
    "name": "ipython",
    "version": 3
   },
   "file_extension": ".py",
   "mimetype": "text/x-python",
   "name": "python",
   "nbconvert_exporter": "python",
   "pygments_lexer": "ipython3",
   "version": "3.8.13"
  }
 },
 "nbformat": 4,
 "nbformat_minor": 4
}
